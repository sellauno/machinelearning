{
  "nbformat": 4,
  "nbformat_minor": 0,
  "metadata": {
    "colab": {
      "provenance": [],
      "authorship_tag": "ABX9TyOzH5Mw+RvsNutuh7bvOd3C",
      "include_colab_link": true
    },
    "kernelspec": {
      "name": "python3",
      "display_name": "Python 3"
    },
    "language_info": {
      "name": "python"
    }
  },
  "cells": [
    {
      "cell_type": "markdown",
      "metadata": {
        "id": "view-in-github",
        "colab_type": "text"
      },
      "source": [
        "<a href=\"https://colab.research.google.com/github/sellauno/machinelearning/blob/main/Kuis2.ipynb\" target=\"_parent\"><img src=\"https://colab.research.google.com/assets/colab-badge.svg\" alt=\"Open In Colab\"/></a>"
      ]
    },
    {
      "cell_type": "markdown",
      "source": [
        "Nama : Sella Novanda\n",
        "\n",
        "Kelas : TI-4J\n",
        "\n",
        "NIM : 2241727030"
      ],
      "metadata": {
        "id": "Sal9ZrP8nzrr"
      }
    },
    {
      "cell_type": "code",
      "execution_count": 3,
      "metadata": {
        "id": "2oocQRR1nxF-"
      },
      "outputs": [],
      "source": [
        "import numpy as np\n",
        "import pandas as pd\n",
        "from sklearn.tree import DecisionTreeClassifier \n",
        "from sklearn.ensemble import RandomForestClassifier \n",
        "from sklearn.model_selection import train_test_split\n",
        "from sklearn.metrics import accuracy_score, classification_report"
      ]
    },
    {
      "cell_type": "code",
      "source": [
        "from google.colab import drive\n",
        "import io\n",
        "\n",
        "drive.mount('/content/drive')\n",
        "url = '/content/drive/MyDrive/Kuliah/dataset_quiz.csv'\n",
        "\n",
        "df = pd.read_csv(url)\n",
        "\n",
        "df.head()"
      ],
      "metadata": {
        "colab": {
          "base_uri": "https://localhost:8080/",
          "height": 288
        },
        "id": "ohmOvKn0oY7x",
        "outputId": "89733623-5a51-4a58-c47f-49c03ef57c59"
      },
      "execution_count": 4,
      "outputs": [
        {
          "output_type": "stream",
          "name": "stdout",
          "text": [
            "Mounted at /content/drive\n"
          ]
        },
        {
          "output_type": "execute_result",
          "data": {
            "text/plain": [
              "   id_ketua  id_anggota1  id_anggota2  id_anggota3  id_anggota4  id_anggota5  \\\n",
              "0    7206.0       7214.0       6211.0       8602.0       7801.0          NaN   \n",
              "1    7214.0       7109.0       8402.0       7903.0       9202.0          NaN   \n",
              "2    5911.0       8201.0       8701.0       9101.0       9003.0          NaN   \n",
              "3    8402.0       7702.0       8602.0       8903.0       8903.0          NaN   \n",
              "4    8201.0       8305.0       5911.0       5903.0       8402.0          NaN   \n",
              "\n",
              "  keterlibatan_vltr  jml_vltr_terlibat  tahun    skema luaran_hki  \\\n",
              "0             TIDAK                  0   2019  REGULER  TIDAK ADA   \n",
              "1             TIDAK                  0   2019  REGULER  TIDAK ADA   \n",
              "2             TIDAK                  0   2019  REGULER  TIDAK ADA   \n",
              "3             TIDAK                  0   2019  REGULER  TIDAK ADA   \n",
              "4             TIDAK                  0   2019  REGULER  TIDAK ADA   \n",
              "\n",
              "  jenis_luaran_hki potensi_hki luaran_lain jenis_luaran_lain  \\\n",
              "0        TIDAK ADA       TIDAK   TIDAK ADA         TIDAK ADA   \n",
              "1        TIDAK ADA       TIDAK   TIDAK ADA         TIDAK ADA   \n",
              "2        TIDAK ADA       TIDAK   TIDAK ADA         TIDAK ADA   \n",
              "3        TIDAK ADA       TIDAK   TIDAK ADA         TIDAK ADA   \n",
              "4        TIDAK ADA       TIDAK   TIDAK ADA         TIDAK ADA   \n",
              "\n",
              "  status_luaran_lain  \n",
              "0          TIDAK ADA  \n",
              "1          TIDAK ADA  \n",
              "2          TIDAK ADA  \n",
              "3          TIDAK ADA  \n",
              "4          TIDAK ADA  "
            ],
            "text/html": [
              "\n",
              "  <div id=\"df-ebb23a30-0569-481e-afa9-dde345e5044c\">\n",
              "    <div class=\"colab-df-container\">\n",
              "      <div>\n",
              "<style scoped>\n",
              "    .dataframe tbody tr th:only-of-type {\n",
              "        vertical-align: middle;\n",
              "    }\n",
              "\n",
              "    .dataframe tbody tr th {\n",
              "        vertical-align: top;\n",
              "    }\n",
              "\n",
              "    .dataframe thead th {\n",
              "        text-align: right;\n",
              "    }\n",
              "</style>\n",
              "<table border=\"1\" class=\"dataframe\">\n",
              "  <thead>\n",
              "    <tr style=\"text-align: right;\">\n",
              "      <th></th>\n",
              "      <th>id_ketua</th>\n",
              "      <th>id_anggota1</th>\n",
              "      <th>id_anggota2</th>\n",
              "      <th>id_anggota3</th>\n",
              "      <th>id_anggota4</th>\n",
              "      <th>id_anggota5</th>\n",
              "      <th>keterlibatan_vltr</th>\n",
              "      <th>jml_vltr_terlibat</th>\n",
              "      <th>tahun</th>\n",
              "      <th>skema</th>\n",
              "      <th>luaran_hki</th>\n",
              "      <th>jenis_luaran_hki</th>\n",
              "      <th>potensi_hki</th>\n",
              "      <th>luaran_lain</th>\n",
              "      <th>jenis_luaran_lain</th>\n",
              "      <th>status_luaran_lain</th>\n",
              "    </tr>\n",
              "  </thead>\n",
              "  <tbody>\n",
              "    <tr>\n",
              "      <th>0</th>\n",
              "      <td>7206.0</td>\n",
              "      <td>7214.0</td>\n",
              "      <td>6211.0</td>\n",
              "      <td>8602.0</td>\n",
              "      <td>7801.0</td>\n",
              "      <td>NaN</td>\n",
              "      <td>TIDAK</td>\n",
              "      <td>0</td>\n",
              "      <td>2019</td>\n",
              "      <td>REGULER</td>\n",
              "      <td>TIDAK ADA</td>\n",
              "      <td>TIDAK ADA</td>\n",
              "      <td>TIDAK</td>\n",
              "      <td>TIDAK ADA</td>\n",
              "      <td>TIDAK ADA</td>\n",
              "      <td>TIDAK ADA</td>\n",
              "    </tr>\n",
              "    <tr>\n",
              "      <th>1</th>\n",
              "      <td>7214.0</td>\n",
              "      <td>7109.0</td>\n",
              "      <td>8402.0</td>\n",
              "      <td>7903.0</td>\n",
              "      <td>9202.0</td>\n",
              "      <td>NaN</td>\n",
              "      <td>TIDAK</td>\n",
              "      <td>0</td>\n",
              "      <td>2019</td>\n",
              "      <td>REGULER</td>\n",
              "      <td>TIDAK ADA</td>\n",
              "      <td>TIDAK ADA</td>\n",
              "      <td>TIDAK</td>\n",
              "      <td>TIDAK ADA</td>\n",
              "      <td>TIDAK ADA</td>\n",
              "      <td>TIDAK ADA</td>\n",
              "    </tr>\n",
              "    <tr>\n",
              "      <th>2</th>\n",
              "      <td>5911.0</td>\n",
              "      <td>8201.0</td>\n",
              "      <td>8701.0</td>\n",
              "      <td>9101.0</td>\n",
              "      <td>9003.0</td>\n",
              "      <td>NaN</td>\n",
              "      <td>TIDAK</td>\n",
              "      <td>0</td>\n",
              "      <td>2019</td>\n",
              "      <td>REGULER</td>\n",
              "      <td>TIDAK ADA</td>\n",
              "      <td>TIDAK ADA</td>\n",
              "      <td>TIDAK</td>\n",
              "      <td>TIDAK ADA</td>\n",
              "      <td>TIDAK ADA</td>\n",
              "      <td>TIDAK ADA</td>\n",
              "    </tr>\n",
              "    <tr>\n",
              "      <th>3</th>\n",
              "      <td>8402.0</td>\n",
              "      <td>7702.0</td>\n",
              "      <td>8602.0</td>\n",
              "      <td>8903.0</td>\n",
              "      <td>8903.0</td>\n",
              "      <td>NaN</td>\n",
              "      <td>TIDAK</td>\n",
              "      <td>0</td>\n",
              "      <td>2019</td>\n",
              "      <td>REGULER</td>\n",
              "      <td>TIDAK ADA</td>\n",
              "      <td>TIDAK ADA</td>\n",
              "      <td>TIDAK</td>\n",
              "      <td>TIDAK ADA</td>\n",
              "      <td>TIDAK ADA</td>\n",
              "      <td>TIDAK ADA</td>\n",
              "    </tr>\n",
              "    <tr>\n",
              "      <th>4</th>\n",
              "      <td>8201.0</td>\n",
              "      <td>8305.0</td>\n",
              "      <td>5911.0</td>\n",
              "      <td>5903.0</td>\n",
              "      <td>8402.0</td>\n",
              "      <td>NaN</td>\n",
              "      <td>TIDAK</td>\n",
              "      <td>0</td>\n",
              "      <td>2019</td>\n",
              "      <td>REGULER</td>\n",
              "      <td>TIDAK ADA</td>\n",
              "      <td>TIDAK ADA</td>\n",
              "      <td>TIDAK</td>\n",
              "      <td>TIDAK ADA</td>\n",
              "      <td>TIDAK ADA</td>\n",
              "      <td>TIDAK ADA</td>\n",
              "    </tr>\n",
              "  </tbody>\n",
              "</table>\n",
              "</div>\n",
              "      <button class=\"colab-df-convert\" onclick=\"convertToInteractive('df-ebb23a30-0569-481e-afa9-dde345e5044c')\"\n",
              "              title=\"Convert this dataframe to an interactive table.\"\n",
              "              style=\"display:none;\">\n",
              "        \n",
              "  <svg xmlns=\"http://www.w3.org/2000/svg\" height=\"24px\"viewBox=\"0 0 24 24\"\n",
              "       width=\"24px\">\n",
              "    <path d=\"M0 0h24v24H0V0z\" fill=\"none\"/>\n",
              "    <path d=\"M18.56 5.44l.94 2.06.94-2.06 2.06-.94-2.06-.94-.94-2.06-.94 2.06-2.06.94zm-11 1L8.5 8.5l.94-2.06 2.06-.94-2.06-.94L8.5 2.5l-.94 2.06-2.06.94zm10 10l.94 2.06.94-2.06 2.06-.94-2.06-.94-.94-2.06-.94 2.06-2.06.94z\"/><path d=\"M17.41 7.96l-1.37-1.37c-.4-.4-.92-.59-1.43-.59-.52 0-1.04.2-1.43.59L10.3 9.45l-7.72 7.72c-.78.78-.78 2.05 0 2.83L4 21.41c.39.39.9.59 1.41.59.51 0 1.02-.2 1.41-.59l7.78-7.78 2.81-2.81c.8-.78.8-2.07 0-2.86zM5.41 20L4 18.59l7.72-7.72 1.47 1.35L5.41 20z\"/>\n",
              "  </svg>\n",
              "      </button>\n",
              "      \n",
              "  <style>\n",
              "    .colab-df-container {\n",
              "      display:flex;\n",
              "      flex-wrap:wrap;\n",
              "      gap: 12px;\n",
              "    }\n",
              "\n",
              "    .colab-df-convert {\n",
              "      background-color: #E8F0FE;\n",
              "      border: none;\n",
              "      border-radius: 50%;\n",
              "      cursor: pointer;\n",
              "      display: none;\n",
              "      fill: #1967D2;\n",
              "      height: 32px;\n",
              "      padding: 0 0 0 0;\n",
              "      width: 32px;\n",
              "    }\n",
              "\n",
              "    .colab-df-convert:hover {\n",
              "      background-color: #E2EBFA;\n",
              "      box-shadow: 0px 1px 2px rgba(60, 64, 67, 0.3), 0px 1px 3px 1px rgba(60, 64, 67, 0.15);\n",
              "      fill: #174EA6;\n",
              "    }\n",
              "\n",
              "    [theme=dark] .colab-df-convert {\n",
              "      background-color: #3B4455;\n",
              "      fill: #D2E3FC;\n",
              "    }\n",
              "\n",
              "    [theme=dark] .colab-df-convert:hover {\n",
              "      background-color: #434B5C;\n",
              "      box-shadow: 0px 1px 3px 1px rgba(0, 0, 0, 0.15);\n",
              "      filter: drop-shadow(0px 1px 2px rgba(0, 0, 0, 0.3));\n",
              "      fill: #FFFFFF;\n",
              "    }\n",
              "  </style>\n",
              "\n",
              "      <script>\n",
              "        const buttonEl =\n",
              "          document.querySelector('#df-ebb23a30-0569-481e-afa9-dde345e5044c button.colab-df-convert');\n",
              "        buttonEl.style.display =\n",
              "          google.colab.kernel.accessAllowed ? 'block' : 'none';\n",
              "\n",
              "        async function convertToInteractive(key) {\n",
              "          const element = document.querySelector('#df-ebb23a30-0569-481e-afa9-dde345e5044c');\n",
              "          const dataTable =\n",
              "            await google.colab.kernel.invokeFunction('convertToInteractive',\n",
              "                                                     [key], {});\n",
              "          if (!dataTable) return;\n",
              "\n",
              "          const docLinkHtml = 'Like what you see? Visit the ' +\n",
              "            '<a target=\"_blank\" href=https://colab.research.google.com/notebooks/data_table.ipynb>data table notebook</a>'\n",
              "            + ' to learn more about interactive tables.';\n",
              "          element.innerHTML = '';\n",
              "          dataTable['output_type'] = 'display_data';\n",
              "          await google.colab.output.renderOutput(dataTable, element);\n",
              "          const docLink = document.createElement('div');\n",
              "          docLink.innerHTML = docLinkHtml;\n",
              "          element.appendChild(docLink);\n",
              "        }\n",
              "      </script>\n",
              "    </div>\n",
              "  </div>\n",
              "  "
            ]
          },
          "metadata": {},
          "execution_count": 4
        }
      ]
    },
    {
      "cell_type": "code",
      "source": [
        "df.isnull().sum()"
      ],
      "metadata": {
        "colab": {
          "base_uri": "https://localhost:8080/"
        },
        "id": "y8kaNPfSpAjg",
        "outputId": "bb2a9447-06be-4b4f-adbe-471fc8dbc189"
      },
      "execution_count": 5,
      "outputs": [
        {
          "output_type": "execute_result",
          "data": {
            "text/plain": [
              "id_ketua               3\n",
              "id_anggota1            5\n",
              "id_anggota2            4\n",
              "id_anggota3            3\n",
              "id_anggota4           13\n",
              "id_anggota5           84\n",
              "keterlibatan_vltr      0\n",
              "jml_vltr_terlibat      0\n",
              "tahun                  0\n",
              "skema                  0\n",
              "luaran_hki             0\n",
              "jenis_luaran_hki       0\n",
              "potensi_hki            0\n",
              "luaran_lain            0\n",
              "jenis_luaran_lain      0\n",
              "status_luaran_lain     0\n",
              "dtype: int64"
            ]
          },
          "metadata": {},
          "execution_count": 5
        }
      ]
    },
    {
      "cell_type": "code",
      "source": [
        "df.fillna(0)"
      ],
      "metadata": {
        "colab": {
          "base_uri": "https://localhost:8080/",
          "height": 488
        },
        "id": "uZ4twUEEINWx",
        "outputId": "4f3d2f84-e942-43a6-c73f-80ba6b1ddf32"
      },
      "execution_count": 6,
      "outputs": [
        {
          "output_type": "execute_result",
          "data": {
            "text/plain": [
              "    id_ketua  id_anggota1  id_anggota2  id_anggota3  id_anggota4  id_anggota5  \\\n",
              "0     7206.0       7214.0       6211.0       8602.0       7801.0          0.0   \n",
              "1     7214.0       7109.0       8402.0       7903.0       9202.0          0.0   \n",
              "2     5911.0       8201.0       8701.0       9101.0       9003.0          0.0   \n",
              "3     8402.0       7702.0       8602.0       8903.0       8903.0          0.0   \n",
              "4     8201.0       8305.0       5911.0       5903.0       8402.0          0.0   \n",
              "..       ...          ...          ...          ...          ...          ...   \n",
              "80    8803.0       8804.0       9102.0       8005.0       9303.0          0.0   \n",
              "81    6211.0       8901.0       9003.0       9303.0       9007.0          0.0   \n",
              "82    8601.0       8903.0       8703.0          0.0          0.0          0.0   \n",
              "83    8703.0       8601.0       9202.0       9102.0       6204.0          0.0   \n",
              "84    8102.0       7109.0       5903.0       7206.0       8903.0          0.0   \n",
              "\n",
              "   keterlibatan_vltr  jml_vltr_terlibat  tahun    skema luaran_hki  \\\n",
              "0              TIDAK                  0   2019  REGULER  TIDAK ADA   \n",
              "1              TIDAK                  0   2019  REGULER  TIDAK ADA   \n",
              "2              TIDAK                  0   2019  REGULER  TIDAK ADA   \n",
              "3              TIDAK                  0   2019  REGULER  TIDAK ADA   \n",
              "4              TIDAK                  0   2019  REGULER  TIDAK ADA   \n",
              "..               ...                ...    ...      ...        ...   \n",
              "80                YA                  3   2022  REGULER  TIDAK ADA   \n",
              "81                YA                  3   2022  REGULER  TIDAK ADA   \n",
              "82                YA                  3   2022  REGULER  TIDAK ADA   \n",
              "83                YA                  3   2022  REGULER  TIDAK ADA   \n",
              "84             TIDAK                  0   2022  REGULER  TIDAK ADA   \n",
              "\n",
              "   jenis_luaran_hki potensi_hki luaran_lain jenis_luaran_lain  \\\n",
              "0         TIDAK ADA       TIDAK   TIDAK ADA         TIDAK ADA   \n",
              "1         TIDAK ADA       TIDAK   TIDAK ADA         TIDAK ADA   \n",
              "2         TIDAK ADA       TIDAK   TIDAK ADA         TIDAK ADA   \n",
              "3         TIDAK ADA       TIDAK   TIDAK ADA         TIDAK ADA   \n",
              "4         TIDAK ADA       TIDAK   TIDAK ADA         TIDAK ADA   \n",
              "..              ...         ...         ...               ...   \n",
              "80        TIDAK ADA       TIDAK   TIDAK ADA         TIDAK ADA   \n",
              "81        TIDAK ADA       TIDAK   TIDAK ADA         TIDAK ADA   \n",
              "82        TIDAK ADA       TIDAK   TIDAK ADA         TIDAK ADA   \n",
              "83        TIDAK ADA       TIDAK   TIDAK ADA         TIDAK ADA   \n",
              "84        TIDAK ADA       TIDAK   TIDAK ADA         TIDAK ADA   \n",
              "\n",
              "   status_luaran_lain  \n",
              "0           TIDAK ADA  \n",
              "1           TIDAK ADA  \n",
              "2           TIDAK ADA  \n",
              "3           TIDAK ADA  \n",
              "4           TIDAK ADA  \n",
              "..                ...  \n",
              "80          TIDAK ADA  \n",
              "81          TIDAK ADA  \n",
              "82          TIDAK ADA  \n",
              "83          TIDAK ADA  \n",
              "84          TIDAK ADA  \n",
              "\n",
              "[85 rows x 16 columns]"
            ],
            "text/html": [
              "\n",
              "  <div id=\"df-03c6fb6f-b4cc-420c-96ea-c27d6640f11a\">\n",
              "    <div class=\"colab-df-container\">\n",
              "      <div>\n",
              "<style scoped>\n",
              "    .dataframe tbody tr th:only-of-type {\n",
              "        vertical-align: middle;\n",
              "    }\n",
              "\n",
              "    .dataframe tbody tr th {\n",
              "        vertical-align: top;\n",
              "    }\n",
              "\n",
              "    .dataframe thead th {\n",
              "        text-align: right;\n",
              "    }\n",
              "</style>\n",
              "<table border=\"1\" class=\"dataframe\">\n",
              "  <thead>\n",
              "    <tr style=\"text-align: right;\">\n",
              "      <th></th>\n",
              "      <th>id_ketua</th>\n",
              "      <th>id_anggota1</th>\n",
              "      <th>id_anggota2</th>\n",
              "      <th>id_anggota3</th>\n",
              "      <th>id_anggota4</th>\n",
              "      <th>id_anggota5</th>\n",
              "      <th>keterlibatan_vltr</th>\n",
              "      <th>jml_vltr_terlibat</th>\n",
              "      <th>tahun</th>\n",
              "      <th>skema</th>\n",
              "      <th>luaran_hki</th>\n",
              "      <th>jenis_luaran_hki</th>\n",
              "      <th>potensi_hki</th>\n",
              "      <th>luaran_lain</th>\n",
              "      <th>jenis_luaran_lain</th>\n",
              "      <th>status_luaran_lain</th>\n",
              "    </tr>\n",
              "  </thead>\n",
              "  <tbody>\n",
              "    <tr>\n",
              "      <th>0</th>\n",
              "      <td>7206.0</td>\n",
              "      <td>7214.0</td>\n",
              "      <td>6211.0</td>\n",
              "      <td>8602.0</td>\n",
              "      <td>7801.0</td>\n",
              "      <td>0.0</td>\n",
              "      <td>TIDAK</td>\n",
              "      <td>0</td>\n",
              "      <td>2019</td>\n",
              "      <td>REGULER</td>\n",
              "      <td>TIDAK ADA</td>\n",
              "      <td>TIDAK ADA</td>\n",
              "      <td>TIDAK</td>\n",
              "      <td>TIDAK ADA</td>\n",
              "      <td>TIDAK ADA</td>\n",
              "      <td>TIDAK ADA</td>\n",
              "    </tr>\n",
              "    <tr>\n",
              "      <th>1</th>\n",
              "      <td>7214.0</td>\n",
              "      <td>7109.0</td>\n",
              "      <td>8402.0</td>\n",
              "      <td>7903.0</td>\n",
              "      <td>9202.0</td>\n",
              "      <td>0.0</td>\n",
              "      <td>TIDAK</td>\n",
              "      <td>0</td>\n",
              "      <td>2019</td>\n",
              "      <td>REGULER</td>\n",
              "      <td>TIDAK ADA</td>\n",
              "      <td>TIDAK ADA</td>\n",
              "      <td>TIDAK</td>\n",
              "      <td>TIDAK ADA</td>\n",
              "      <td>TIDAK ADA</td>\n",
              "      <td>TIDAK ADA</td>\n",
              "    </tr>\n",
              "    <tr>\n",
              "      <th>2</th>\n",
              "      <td>5911.0</td>\n",
              "      <td>8201.0</td>\n",
              "      <td>8701.0</td>\n",
              "      <td>9101.0</td>\n",
              "      <td>9003.0</td>\n",
              "      <td>0.0</td>\n",
              "      <td>TIDAK</td>\n",
              "      <td>0</td>\n",
              "      <td>2019</td>\n",
              "      <td>REGULER</td>\n",
              "      <td>TIDAK ADA</td>\n",
              "      <td>TIDAK ADA</td>\n",
              "      <td>TIDAK</td>\n",
              "      <td>TIDAK ADA</td>\n",
              "      <td>TIDAK ADA</td>\n",
              "      <td>TIDAK ADA</td>\n",
              "    </tr>\n",
              "    <tr>\n",
              "      <th>3</th>\n",
              "      <td>8402.0</td>\n",
              "      <td>7702.0</td>\n",
              "      <td>8602.0</td>\n",
              "      <td>8903.0</td>\n",
              "      <td>8903.0</td>\n",
              "      <td>0.0</td>\n",
              "      <td>TIDAK</td>\n",
              "      <td>0</td>\n",
              "      <td>2019</td>\n",
              "      <td>REGULER</td>\n",
              "      <td>TIDAK ADA</td>\n",
              "      <td>TIDAK ADA</td>\n",
              "      <td>TIDAK</td>\n",
              "      <td>TIDAK ADA</td>\n",
              "      <td>TIDAK ADA</td>\n",
              "      <td>TIDAK ADA</td>\n",
              "    </tr>\n",
              "    <tr>\n",
              "      <th>4</th>\n",
              "      <td>8201.0</td>\n",
              "      <td>8305.0</td>\n",
              "      <td>5911.0</td>\n",
              "      <td>5903.0</td>\n",
              "      <td>8402.0</td>\n",
              "      <td>0.0</td>\n",
              "      <td>TIDAK</td>\n",
              "      <td>0</td>\n",
              "      <td>2019</td>\n",
              "      <td>REGULER</td>\n",
              "      <td>TIDAK ADA</td>\n",
              "      <td>TIDAK ADA</td>\n",
              "      <td>TIDAK</td>\n",
              "      <td>TIDAK ADA</td>\n",
              "      <td>TIDAK ADA</td>\n",
              "      <td>TIDAK ADA</td>\n",
              "    </tr>\n",
              "    <tr>\n",
              "      <th>...</th>\n",
              "      <td>...</td>\n",
              "      <td>...</td>\n",
              "      <td>...</td>\n",
              "      <td>...</td>\n",
              "      <td>...</td>\n",
              "      <td>...</td>\n",
              "      <td>...</td>\n",
              "      <td>...</td>\n",
              "      <td>...</td>\n",
              "      <td>...</td>\n",
              "      <td>...</td>\n",
              "      <td>...</td>\n",
              "      <td>...</td>\n",
              "      <td>...</td>\n",
              "      <td>...</td>\n",
              "      <td>...</td>\n",
              "    </tr>\n",
              "    <tr>\n",
              "      <th>80</th>\n",
              "      <td>8803.0</td>\n",
              "      <td>8804.0</td>\n",
              "      <td>9102.0</td>\n",
              "      <td>8005.0</td>\n",
              "      <td>9303.0</td>\n",
              "      <td>0.0</td>\n",
              "      <td>YA</td>\n",
              "      <td>3</td>\n",
              "      <td>2022</td>\n",
              "      <td>REGULER</td>\n",
              "      <td>TIDAK ADA</td>\n",
              "      <td>TIDAK ADA</td>\n",
              "      <td>TIDAK</td>\n",
              "      <td>TIDAK ADA</td>\n",
              "      <td>TIDAK ADA</td>\n",
              "      <td>TIDAK ADA</td>\n",
              "    </tr>\n",
              "    <tr>\n",
              "      <th>81</th>\n",
              "      <td>6211.0</td>\n",
              "      <td>8901.0</td>\n",
              "      <td>9003.0</td>\n",
              "      <td>9303.0</td>\n",
              "      <td>9007.0</td>\n",
              "      <td>0.0</td>\n",
              "      <td>YA</td>\n",
              "      <td>3</td>\n",
              "      <td>2022</td>\n",
              "      <td>REGULER</td>\n",
              "      <td>TIDAK ADA</td>\n",
              "      <td>TIDAK ADA</td>\n",
              "      <td>TIDAK</td>\n",
              "      <td>TIDAK ADA</td>\n",
              "      <td>TIDAK ADA</td>\n",
              "      <td>TIDAK ADA</td>\n",
              "    </tr>\n",
              "    <tr>\n",
              "      <th>82</th>\n",
              "      <td>8601.0</td>\n",
              "      <td>8903.0</td>\n",
              "      <td>8703.0</td>\n",
              "      <td>0.0</td>\n",
              "      <td>0.0</td>\n",
              "      <td>0.0</td>\n",
              "      <td>YA</td>\n",
              "      <td>3</td>\n",
              "      <td>2022</td>\n",
              "      <td>REGULER</td>\n",
              "      <td>TIDAK ADA</td>\n",
              "      <td>TIDAK ADA</td>\n",
              "      <td>TIDAK</td>\n",
              "      <td>TIDAK ADA</td>\n",
              "      <td>TIDAK ADA</td>\n",
              "      <td>TIDAK ADA</td>\n",
              "    </tr>\n",
              "    <tr>\n",
              "      <th>83</th>\n",
              "      <td>8703.0</td>\n",
              "      <td>8601.0</td>\n",
              "      <td>9202.0</td>\n",
              "      <td>9102.0</td>\n",
              "      <td>6204.0</td>\n",
              "      <td>0.0</td>\n",
              "      <td>YA</td>\n",
              "      <td>3</td>\n",
              "      <td>2022</td>\n",
              "      <td>REGULER</td>\n",
              "      <td>TIDAK ADA</td>\n",
              "      <td>TIDAK ADA</td>\n",
              "      <td>TIDAK</td>\n",
              "      <td>TIDAK ADA</td>\n",
              "      <td>TIDAK ADA</td>\n",
              "      <td>TIDAK ADA</td>\n",
              "    </tr>\n",
              "    <tr>\n",
              "      <th>84</th>\n",
              "      <td>8102.0</td>\n",
              "      <td>7109.0</td>\n",
              "      <td>5903.0</td>\n",
              "      <td>7206.0</td>\n",
              "      <td>8903.0</td>\n",
              "      <td>0.0</td>\n",
              "      <td>TIDAK</td>\n",
              "      <td>0</td>\n",
              "      <td>2022</td>\n",
              "      <td>REGULER</td>\n",
              "      <td>TIDAK ADA</td>\n",
              "      <td>TIDAK ADA</td>\n",
              "      <td>TIDAK</td>\n",
              "      <td>TIDAK ADA</td>\n",
              "      <td>TIDAK ADA</td>\n",
              "      <td>TIDAK ADA</td>\n",
              "    </tr>\n",
              "  </tbody>\n",
              "</table>\n",
              "<p>85 rows × 16 columns</p>\n",
              "</div>\n",
              "      <button class=\"colab-df-convert\" onclick=\"convertToInteractive('df-03c6fb6f-b4cc-420c-96ea-c27d6640f11a')\"\n",
              "              title=\"Convert this dataframe to an interactive table.\"\n",
              "              style=\"display:none;\">\n",
              "        \n",
              "  <svg xmlns=\"http://www.w3.org/2000/svg\" height=\"24px\"viewBox=\"0 0 24 24\"\n",
              "       width=\"24px\">\n",
              "    <path d=\"M0 0h24v24H0V0z\" fill=\"none\"/>\n",
              "    <path d=\"M18.56 5.44l.94 2.06.94-2.06 2.06-.94-2.06-.94-.94-2.06-.94 2.06-2.06.94zm-11 1L8.5 8.5l.94-2.06 2.06-.94-2.06-.94L8.5 2.5l-.94 2.06-2.06.94zm10 10l.94 2.06.94-2.06 2.06-.94-2.06-.94-.94-2.06-.94 2.06-2.06.94z\"/><path d=\"M17.41 7.96l-1.37-1.37c-.4-.4-.92-.59-1.43-.59-.52 0-1.04.2-1.43.59L10.3 9.45l-7.72 7.72c-.78.78-.78 2.05 0 2.83L4 21.41c.39.39.9.59 1.41.59.51 0 1.02-.2 1.41-.59l7.78-7.78 2.81-2.81c.8-.78.8-2.07 0-2.86zM5.41 20L4 18.59l7.72-7.72 1.47 1.35L5.41 20z\"/>\n",
              "  </svg>\n",
              "      </button>\n",
              "      \n",
              "  <style>\n",
              "    .colab-df-container {\n",
              "      display:flex;\n",
              "      flex-wrap:wrap;\n",
              "      gap: 12px;\n",
              "    }\n",
              "\n",
              "    .colab-df-convert {\n",
              "      background-color: #E8F0FE;\n",
              "      border: none;\n",
              "      border-radius: 50%;\n",
              "      cursor: pointer;\n",
              "      display: none;\n",
              "      fill: #1967D2;\n",
              "      height: 32px;\n",
              "      padding: 0 0 0 0;\n",
              "      width: 32px;\n",
              "    }\n",
              "\n",
              "    .colab-df-convert:hover {\n",
              "      background-color: #E2EBFA;\n",
              "      box-shadow: 0px 1px 2px rgba(60, 64, 67, 0.3), 0px 1px 3px 1px rgba(60, 64, 67, 0.15);\n",
              "      fill: #174EA6;\n",
              "    }\n",
              "\n",
              "    [theme=dark] .colab-df-convert {\n",
              "      background-color: #3B4455;\n",
              "      fill: #D2E3FC;\n",
              "    }\n",
              "\n",
              "    [theme=dark] .colab-df-convert:hover {\n",
              "      background-color: #434B5C;\n",
              "      box-shadow: 0px 1px 3px 1px rgba(0, 0, 0, 0.15);\n",
              "      filter: drop-shadow(0px 1px 2px rgba(0, 0, 0, 0.3));\n",
              "      fill: #FFFFFF;\n",
              "    }\n",
              "  </style>\n",
              "\n",
              "      <script>\n",
              "        const buttonEl =\n",
              "          document.querySelector('#df-03c6fb6f-b4cc-420c-96ea-c27d6640f11a button.colab-df-convert');\n",
              "        buttonEl.style.display =\n",
              "          google.colab.kernel.accessAllowed ? 'block' : 'none';\n",
              "\n",
              "        async function convertToInteractive(key) {\n",
              "          const element = document.querySelector('#df-03c6fb6f-b4cc-420c-96ea-c27d6640f11a');\n",
              "          const dataTable =\n",
              "            await google.colab.kernel.invokeFunction('convertToInteractive',\n",
              "                                                     [key], {});\n",
              "          if (!dataTable) return;\n",
              "\n",
              "          const docLinkHtml = 'Like what you see? Visit the ' +\n",
              "            '<a target=\"_blank\" href=https://colab.research.google.com/notebooks/data_table.ipynb>data table notebook</a>'\n",
              "            + ' to learn more about interactive tables.';\n",
              "          element.innerHTML = '';\n",
              "          dataTable['output_type'] = 'display_data';\n",
              "          await google.colab.output.renderOutput(dataTable, element);\n",
              "          const docLink = document.createElement('div');\n",
              "          docLink.innerHTML = docLinkHtml;\n",
              "          element.appendChild(docLink);\n",
              "        }\n",
              "      </script>\n",
              "    </div>\n",
              "  </div>\n",
              "  "
            ]
          },
          "metadata": {},
          "execution_count": 6
        }
      ]
    },
    {
      "cell_type": "code",
      "source": [
        "gruptahun = df.groupby('tahun').sum()\n",
        "gruptahun.head()"
      ],
      "metadata": {
        "colab": {
          "base_uri": "https://localhost:8080/",
          "height": 270
        },
        "id": "31vr4Ahjxrnl",
        "outputId": "22dee130-73de-478a-b46d-c634245b8c5e"
      },
      "execution_count": 7,
      "outputs": [
        {
          "output_type": "execute_result",
          "data": {
            "text/plain": [
              "       id_ketua  id_anggota1  id_anggota2  id_anggota3  id_anggota4  \\\n",
              "tahun                                                                 \n",
              "2019   138890.0     142679.0     153786.0     148845.0     156456.0   \n",
              "2020   171605.0     170553.0     188988.0     189085.0     168368.0   \n",
              "2021   135183.0     138061.0     138218.0     148081.0     138214.0   \n",
              "2022   206623.0     201200.0     188555.0     204351.0     154174.0   \n",
              "\n",
              "       id_anggota5  jml_vltr_terlibat  \n",
              "tahun                                  \n",
              "2019           0.0                  0  \n",
              "2020        8812.0                 39  \n",
              "2021           0.0                 26  \n",
              "2022           0.0                 49  "
            ],
            "text/html": [
              "\n",
              "  <div id=\"df-e9e0b700-e683-42d0-a921-ea4ba4ed96d7\">\n",
              "    <div class=\"colab-df-container\">\n",
              "      <div>\n",
              "<style scoped>\n",
              "    .dataframe tbody tr th:only-of-type {\n",
              "        vertical-align: middle;\n",
              "    }\n",
              "\n",
              "    .dataframe tbody tr th {\n",
              "        vertical-align: top;\n",
              "    }\n",
              "\n",
              "    .dataframe thead th {\n",
              "        text-align: right;\n",
              "    }\n",
              "</style>\n",
              "<table border=\"1\" class=\"dataframe\">\n",
              "  <thead>\n",
              "    <tr style=\"text-align: right;\">\n",
              "      <th></th>\n",
              "      <th>id_ketua</th>\n",
              "      <th>id_anggota1</th>\n",
              "      <th>id_anggota2</th>\n",
              "      <th>id_anggota3</th>\n",
              "      <th>id_anggota4</th>\n",
              "      <th>id_anggota5</th>\n",
              "      <th>jml_vltr_terlibat</th>\n",
              "    </tr>\n",
              "    <tr>\n",
              "      <th>tahun</th>\n",
              "      <th></th>\n",
              "      <th></th>\n",
              "      <th></th>\n",
              "      <th></th>\n",
              "      <th></th>\n",
              "      <th></th>\n",
              "      <th></th>\n",
              "    </tr>\n",
              "  </thead>\n",
              "  <tbody>\n",
              "    <tr>\n",
              "      <th>2019</th>\n",
              "      <td>138890.0</td>\n",
              "      <td>142679.0</td>\n",
              "      <td>153786.0</td>\n",
              "      <td>148845.0</td>\n",
              "      <td>156456.0</td>\n",
              "      <td>0.0</td>\n",
              "      <td>0</td>\n",
              "    </tr>\n",
              "    <tr>\n",
              "      <th>2020</th>\n",
              "      <td>171605.0</td>\n",
              "      <td>170553.0</td>\n",
              "      <td>188988.0</td>\n",
              "      <td>189085.0</td>\n",
              "      <td>168368.0</td>\n",
              "      <td>8812.0</td>\n",
              "      <td>39</td>\n",
              "    </tr>\n",
              "    <tr>\n",
              "      <th>2021</th>\n",
              "      <td>135183.0</td>\n",
              "      <td>138061.0</td>\n",
              "      <td>138218.0</td>\n",
              "      <td>148081.0</td>\n",
              "      <td>138214.0</td>\n",
              "      <td>0.0</td>\n",
              "      <td>26</td>\n",
              "    </tr>\n",
              "    <tr>\n",
              "      <th>2022</th>\n",
              "      <td>206623.0</td>\n",
              "      <td>201200.0</td>\n",
              "      <td>188555.0</td>\n",
              "      <td>204351.0</td>\n",
              "      <td>154174.0</td>\n",
              "      <td>0.0</td>\n",
              "      <td>49</td>\n",
              "    </tr>\n",
              "  </tbody>\n",
              "</table>\n",
              "</div>\n",
              "      <button class=\"colab-df-convert\" onclick=\"convertToInteractive('df-e9e0b700-e683-42d0-a921-ea4ba4ed96d7')\"\n",
              "              title=\"Convert this dataframe to an interactive table.\"\n",
              "              style=\"display:none;\">\n",
              "        \n",
              "  <svg xmlns=\"http://www.w3.org/2000/svg\" height=\"24px\"viewBox=\"0 0 24 24\"\n",
              "       width=\"24px\">\n",
              "    <path d=\"M0 0h24v24H0V0z\" fill=\"none\"/>\n",
              "    <path d=\"M18.56 5.44l.94 2.06.94-2.06 2.06-.94-2.06-.94-.94-2.06-.94 2.06-2.06.94zm-11 1L8.5 8.5l.94-2.06 2.06-.94-2.06-.94L8.5 2.5l-.94 2.06-2.06.94zm10 10l.94 2.06.94-2.06 2.06-.94-2.06-.94-.94-2.06-.94 2.06-2.06.94z\"/><path d=\"M17.41 7.96l-1.37-1.37c-.4-.4-.92-.59-1.43-.59-.52 0-1.04.2-1.43.59L10.3 9.45l-7.72 7.72c-.78.78-.78 2.05 0 2.83L4 21.41c.39.39.9.59 1.41.59.51 0 1.02-.2 1.41-.59l7.78-7.78 2.81-2.81c.8-.78.8-2.07 0-2.86zM5.41 20L4 18.59l7.72-7.72 1.47 1.35L5.41 20z\"/>\n",
              "  </svg>\n",
              "      </button>\n",
              "      \n",
              "  <style>\n",
              "    .colab-df-container {\n",
              "      display:flex;\n",
              "      flex-wrap:wrap;\n",
              "      gap: 12px;\n",
              "    }\n",
              "\n",
              "    .colab-df-convert {\n",
              "      background-color: #E8F0FE;\n",
              "      border: none;\n",
              "      border-radius: 50%;\n",
              "      cursor: pointer;\n",
              "      display: none;\n",
              "      fill: #1967D2;\n",
              "      height: 32px;\n",
              "      padding: 0 0 0 0;\n",
              "      width: 32px;\n",
              "    }\n",
              "\n",
              "    .colab-df-convert:hover {\n",
              "      background-color: #E2EBFA;\n",
              "      box-shadow: 0px 1px 2px rgba(60, 64, 67, 0.3), 0px 1px 3px 1px rgba(60, 64, 67, 0.15);\n",
              "      fill: #174EA6;\n",
              "    }\n",
              "\n",
              "    [theme=dark] .colab-df-convert {\n",
              "      background-color: #3B4455;\n",
              "      fill: #D2E3FC;\n",
              "    }\n",
              "\n",
              "    [theme=dark] .colab-df-convert:hover {\n",
              "      background-color: #434B5C;\n",
              "      box-shadow: 0px 1px 3px 1px rgba(0, 0, 0, 0.15);\n",
              "      filter: drop-shadow(0px 1px 2px rgba(0, 0, 0, 0.3));\n",
              "      fill: #FFFFFF;\n",
              "    }\n",
              "  </style>\n",
              "\n",
              "      <script>\n",
              "        const buttonEl =\n",
              "          document.querySelector('#df-e9e0b700-e683-42d0-a921-ea4ba4ed96d7 button.colab-df-convert');\n",
              "        buttonEl.style.display =\n",
              "          google.colab.kernel.accessAllowed ? 'block' : 'none';\n",
              "\n",
              "        async function convertToInteractive(key) {\n",
              "          const element = document.querySelector('#df-e9e0b700-e683-42d0-a921-ea4ba4ed96d7');\n",
              "          const dataTable =\n",
              "            await google.colab.kernel.invokeFunction('convertToInteractive',\n",
              "                                                     [key], {});\n",
              "          if (!dataTable) return;\n",
              "\n",
              "          const docLinkHtml = 'Like what you see? Visit the ' +\n",
              "            '<a target=\"_blank\" href=https://colab.research.google.com/notebooks/data_table.ipynb>data table notebook</a>'\n",
              "            + ' to learn more about interactive tables.';\n",
              "          element.innerHTML = '';\n",
              "          dataTable['output_type'] = 'display_data';\n",
              "          await google.colab.output.renderOutput(dataTable, element);\n",
              "          const docLink = document.createElement('div');\n",
              "          docLink.innerHTML = docLinkHtml;\n",
              "          element.appendChild(docLink);\n",
              "        }\n",
              "      </script>\n",
              "    </div>\n",
              "  </div>\n",
              "  "
            ]
          },
          "metadata": {},
          "execution_count": 7
        }
      ]
    },
    {
      "cell_type": "markdown",
      "source": [
        "Line Plot"
      ],
      "metadata": {
        "id": "uXoR-z0G4zFB"
      }
    },
    {
      "cell_type": "code",
      "source": [
        "import matplotlib.pyplot as plt\n",
        "tahun = ['2019', '2020', '2021', '2022']\n",
        "plt.plot(tahun, gruptahun['jml_vltr_terlibat'])\n",
        "\n",
        "plt.title('Data Volunteer\\n', size=16)\n",
        "plt.ylabel('\\nJumlah Volunteer yang Terlibat', size=14)\n",
        "plt.xlabel('\\nTahun', size=14)\n",
        "plt.show()"
      ],
      "metadata": {
        "colab": {
          "base_uri": "https://localhost:8080/",
          "height": 335
        },
        "id": "I_tsT20GIamJ",
        "outputId": "82075800-6ac9-4466-9b16-7c1939d5ee5a"
      },
      "execution_count": 8,
      "outputs": [
        {
          "output_type": "display_data",
          "data": {
            "text/plain": [
              "<Figure size 432x288 with 1 Axes>"
            ],
            "image/png": "[encoded data removed]"
          },
          "metadata": {
            "needs_background": "light"
          }
        }
      ]
    },
    {
      "cell_type": "markdown",
      "source": [
        "Scatter Plot"
      ],
      "metadata": {
        "id": "-NiP64XL401_"
      }
    },
    {
      "cell_type": "code",
      "source": [
        "plt.scatter(df['tahun'], df['jml_vltr_terlibat'])\n",
        "plt.show()\n"
      ],
      "metadata": {
        "colab": {
          "base_uri": "https://localhost:8080/",
          "height": 265
        },
        "id": "nwJUtYCy0y-1",
        "outputId": "fbaa4726-e9bc-4910-c089-83f54b3abec3"
      },
      "execution_count": 9,
      "outputs": [
        {
          "output_type": "display_data",
          "data": {
            "text/plain": [
              "<Figure size 432x288 with 1 Axes>"
            ],
            "image/png": "[encoded data removed]"
          },
          "metadata": {
            "needs_background": "light"
          }
        }
      ]
    },
    {
      "cell_type": "markdown",
      "source": [
        "Bar plot"
      ],
      "metadata": {
        "id": "p2jdXBL944fb"
      }
    },
    {
      "cell_type": "code",
      "source": [
        "plt.bar( ['2019', '2020', '2021', '2022'], gruptahun['jml_vltr_terlibat'], color=['royalblue','red','green', 'orange'])\n",
        "\n",
        "plt.xlabel('\\nOcean Proximity', size=14)\n",
        "plt.ylabel('\\nNumber of House', size=14)\n",
        "plt.title('Number of House Based on Ocean Proximity\\n', size=16)\n",
        "plt.show()"
      ],
      "metadata": {
        "colab": {
          "base_uri": "https://localhost:8080/",
          "height": 335
        },
        "id": "_S6Mcze-3J36",
        "outputId": "8ebd6244-f40c-44e7-fecb-5bf2a1cfe552"
      },
      "execution_count": 10,
      "outputs": [
        {
          "output_type": "display_data",
          "data": {
            "text/plain": [
              "<Figure size 432x288 with 1 Axes>"
            ],
            "image/png": "[encoded data removed]"
          },
          "metadata": {
            "needs_background": "light"
          }
        }
      ]
    },
    {
      "cell_type": "markdown",
      "source": [
        "Box plot"
      ],
      "metadata": {
        "id": "NWSwfIIi47oe"
      }
    },
    {
      "cell_type": "code",
      "source": [
        "# create box plot\n",
        "gruptahun['jml_vltr_terlibat'].plot(kind='box', figsize=(8, 6))\n",
        "\n",
        "plt.title('Box plot of Sepal Width\\n', size=16)\n",
        "plt.show()"
      ],
      "metadata": {
        "colab": {
          "base_uri": "https://localhost:8080/",
          "height": 410
        },
        "id": "skFrf7os381k",
        "outputId": "6ed1e50a-c4f7-4cf5-d669-e5bada48b3d0"
      },
      "execution_count": 11,
      "outputs": [
        {
          "output_type": "display_data",
          "data": {
            "text/plain": [
              "<Figure size 576x432 with 1 Axes>"
            ],
            "image/png": "[encoded data removed]"
          },
          "metadata": {
            "needs_background": "light"
          }
        }
      ]
    },
    {
      "cell_type": "markdown",
      "source": [
        "Histogram"
      ],
      "metadata": {
        "id": "DYOmphv34_YO"
      }
    },
    {
      "cell_type": "code",
      "source": [
        "df['jml_vltr_terlibat'].plot(kind='hist', figsize=(10, 6), bins=50)\n",
        "\n",
        "plt.title('Histogram of Median House Value - California Housing Prices Dataset\\n', size=16)\n",
        "plt.ylabel('\\nNumber of data', size=14)\n",
        "plt.xlabel('\\nPrices', size=14)\n",
        "plt.show()"
      ],
      "metadata": {
        "colab": {
          "base_uri": "https://localhost:8080/",
          "height": 444
        },
        "id": "Cu9L4McF4U5m",
        "outputId": "89a192bb-b6c7-4d61-ff20-e9fefebe49e2"
      },
      "execution_count": 12,
      "outputs": [
        {
          "output_type": "display_data",
          "data": {
            "text/plain": [
              "<Figure size 720x432 with 1 Axes>"
            ],
            "image/png": "[encoded data removed]"
          },
          "metadata": {
            "needs_background": "light"
          }
        }
      ]
    },
    {
      "cell_type": "markdown",
      "source": [
        "Data Training & Testing"
      ],
      "metadata": {
        "id": "iEU6coMF5Ba-"
      }
    },
    {
      "cell_type": "code",
      "source": [
        "# Replace\n",
        "df = df.replace(to_replace=['TIDAK ADA', 'TIDAK'], value=[0, 0]) ('TIDAK ADA',0, regex=True)\n",
        "df['keterlibatan_vltr'].replace('TIDAK',0,inplace=True)\n",
        "df['keterlibatan_vltr'].replace('YA',1,inplace=True)\n",
        "df['skema'].replace('REGULAR',0,inplace=True)\n",
        "df['skema'].replace('KEMITRAAN',1,inplace=True)\n",
        "df['luaran_hki'].replace('ADA',1,inplace=True)\n",
        "df['jenis_luaran_hki'].replace('Hak Cipta',1,inplace=True)\n",
        "df['potensi_hki'].replace('TIDAK',0,inplace=True)\n",
        "df['potensi_hki'].replace('YA',1,inplace=True)\n",
        "df['potensi_hki'].replace('DRAFT',2,inplace=True)\n",
        "df['potensi_hki'].replace('SUDAH',3,inplace=True)\n",
        "df['luaran_lain'].replace('YA',1,inplace=True)\n",
        "df['jenis_luaran_lain'].replace('Publikasi Media Massa',1,inplace=True)\n",
        "df['jenis_luaran_lain'].replace('Artikel Ilmiah',2,inplace=True)\n",
        "df['jenis_luaran_lain'].replace('Modul Ajar',3,inplace=True)\n",
        "df['status_luaran_lain'].replace('Draft',1,inplace=True)\n",
        "df['status_luaran_lain'].replace('Terpublikasi',2,inplace=True)"
      ],
      "metadata": {
        "id": "8qOQjNIP16va"
      },
      "execution_count": null,
      "outputs": []
    },
    {
      "cell_type": "code",
      "source": [
        "df = df.replace(to_replace=['TIDAK ADA', 'TIDAK'], value=[0, 0])\n",
        "df['keterlibatan_vltr'].replace(to_replace=['YA'], value=[1])\n",
        "df['skema'].replace(to_replace=['REGULAR', 'KEMITRAAN'], value=[0, 1])\n",
        "df['luaran_hki'].replace(to_replace=['ADA'], value=[1])\n",
        "df['jenis_luaran_hki'].replace(to_replace=['Hak Cipta'], value=[1])\n",
        "df['potensi_hki'].replace(to_replace=['TIDAK', 'YA', 'DRAFT', 'SUDAH'], value=[0, 1, 2, 3])\n",
        "df['luaran_lain'].replace(to_replace=['YA'], value=[1])\n",
        "df['jenis_luaran_lain'].replace(to_replace=['Publikasi Media Massa', 'Artikel Ilmiah', 'Modul Ajar'], value=[1, 2, 3])\n",
        "df['status_luaran_lain'].replace(to_replace=['Draft', 'Terpublikasi'], value=[1, 2])\n",
        "\n",
        "df.fillna(0)"
      ],
      "metadata": {
        "colab": {
          "base_uri": "https://localhost:8080/",
          "height": 488
        },
        "id": "PqizkoZ06kOd",
        "outputId": "1f7394c2-64e2-4c29-a35c-13fb5f89ec1d"
      },
      "execution_count": 86,
      "outputs": [
        {
          "output_type": "execute_result",
          "data": {
            "text/plain": [
              "    id_ketua  id_anggota1  id_anggota2  id_anggota3  id_anggota4  id_anggota5  \\\n",
              "0     7206.0       7214.0       6211.0       8602.0       7801.0          0.0   \n",
              "1     7214.0       7109.0       8402.0       7903.0       9202.0          0.0   \n",
              "2     5911.0       8201.0       8701.0       9101.0       9003.0          0.0   \n",
              "3     8402.0       7702.0       8602.0       8903.0       8903.0          0.0   \n",
              "4     8201.0       8305.0       5911.0       5903.0       8402.0          0.0   \n",
              "..       ...          ...          ...          ...          ...          ...   \n",
              "80    8803.0       8804.0       9102.0       8005.0       9303.0          0.0   \n",
              "81    6211.0       8901.0       9003.0       9303.0       9007.0          0.0   \n",
              "82    8601.0       8903.0       8703.0          0.0          0.0          0.0   \n",
              "83    8703.0       8601.0       9202.0       9102.0       6204.0          0.0   \n",
              "84    8102.0       7109.0       5903.0       7206.0       8903.0          0.0   \n",
              "\n",
              "   keterlibatan_vltr  jml_vltr_terlibat  tahun skema luaran_hki  \\\n",
              "0                  0                  0   2019     1          0   \n",
              "1                  0                  0   2019     1          0   \n",
              "2                  0                  0   2019     1          0   \n",
              "3                  0                  0   2019     1          0   \n",
              "4                  0                  0   2019     1          0   \n",
              "..               ...                ...    ...   ...        ...   \n",
              "80                 1                  3   2022     1          0   \n",
              "81                 1                  3   2022     1          0   \n",
              "82                 1                  3   2022     1          0   \n",
              "83                 1                  3   2022     1          0   \n",
              "84                 0                  0   2022     1          0   \n",
              "\n",
              "   jenis_luaran_hki potensi_hki luaran_lain jenis_luaran_lain  \\\n",
              "0                 0           0           0                 0   \n",
              "1                 0           0           0                 0   \n",
              "2                 0           0           0                 0   \n",
              "3                 0           0           0                 0   \n",
              "4                 0           0           0                 0   \n",
              "..              ...         ...         ...               ...   \n",
              "80                0           0           0                 0   \n",
              "81                0           0           0                 0   \n",
              "82                0           0           0                 0   \n",
              "83                0           0           0                 0   \n",
              "84                0           0           0                 0   \n",
              "\n",
              "   status_luaran_lain  \n",
              "0                   0  \n",
              "1                   0  \n",
              "2                   0  \n",
              "3                   0  \n",
              "4                   0  \n",
              "..                ...  \n",
              "80                  0  \n",
              "81                  0  \n",
              "82                  0  \n",
              "83                  0  \n",
              "84                  0  \n",
              "\n",
              "[85 rows x 16 columns]"
            ],
            "text/html": [
              "\n",
              "  <div id=\"df-4b357117-d406-4a10-b6f0-8562e8e96ad6\">\n",
              "    <div class=\"colab-df-container\">\n",
              "      <div>\n",
              "<style scoped>\n",
              "    .dataframe tbody tr th:only-of-type {\n",
              "        vertical-align: middle;\n",
              "    }\n",
              "\n",
              "    .dataframe tbody tr th {\n",
              "        vertical-align: top;\n",
              "    }\n",
              "\n",
              "    .dataframe thead th {\n",
              "        text-align: right;\n",
              "    }\n",
              "</style>\n",
              "<table border=\"1\" class=\"dataframe\">\n",
              "  <thead>\n",
              "    <tr style=\"text-align: right;\">\n",
              "      <th></th>\n",
              "      <th>id_ketua</th>\n",
              "      <th>id_anggota1</th>\n",
              "      <th>id_anggota2</th>\n",
              "      <th>id_anggota3</th>\n",
              "      <th>id_anggota4</th>\n",
              "      <th>id_anggota5</th>\n",
              "      <th>keterlibatan_vltr</th>\n",
              "      <th>jml_vltr_terlibat</th>\n",
              "      <th>tahun</th>\n",
              "      <th>skema</th>\n",
              "      <th>luaran_hki</th>\n",
              "      <th>jenis_luaran_hki</th>\n",
              "      <th>potensi_hki</th>\n",
              "      <th>luaran_lain</th>\n",
              "      <th>jenis_luaran_lain</th>\n",
              "      <th>status_luaran_lain</th>\n",
              "    </tr>\n",
              "  </thead>\n",
              "  <tbody>\n",
              "    <tr>\n",
              "      <th>0</th>\n",
              "      <td>7206.0</td>\n",
              "      <td>7214.0</td>\n",
              "      <td>6211.0</td>\n",
              "      <td>8602.0</td>\n",
              "      <td>7801.0</td>\n",
              "      <td>0.0</td>\n",
              "      <td>0</td>\n",
              "      <td>0</td>\n",
              "      <td>2019</td>\n",
              "      <td>1</td>\n",
              "      <td>0</td>\n",
              "      <td>0</td>\n",
              "      <td>0</td>\n",
              "      <td>0</td>\n",
              "      <td>0</td>\n",
              "      <td>0</td>\n",
              "    </tr>\n",
              "    <tr>\n",
              "      <th>1</th>\n",
              "      <td>7214.0</td>\n",
              "      <td>7109.0</td>\n",
              "      <td>8402.0</td>\n",
              "      <td>7903.0</td>\n",
              "      <td>9202.0</td>\n",
              "      <td>0.0</td>\n",
              "      <td>0</td>\n",
              "      <td>0</td>\n",
              "      <td>2019</td>\n",
              "      <td>1</td>\n",
              "      <td>0</td>\n",
              "      <td>0</td>\n",
              "      <td>0</td>\n",
              "      <td>0</td>\n",
              "      <td>0</td>\n",
              "      <td>0</td>\n",
              "    </tr>\n",
              "    <tr>\n",
              "      <th>2</th>\n",
              "      <td>5911.0</td>\n",
              "      <td>8201.0</td>\n",
              "      <td>8701.0</td>\n",
              "      <td>9101.0</td>\n",
              "      <td>9003.0</td>\n",
              "      <td>0.0</td>\n",
              "      <td>0</td>\n",
              "      <td>0</td>\n",
              "      <td>2019</td>\n",
              "      <td>1</td>\n",
              "      <td>0</td>\n",
              "      <td>0</td>\n",
              "      <td>0</td>\n",
              "      <td>0</td>\n",
              "      <td>0</td>\n",
              "      <td>0</td>\n",
              "    </tr>\n",
              "    <tr>\n",
              "      <th>3</th>\n",
              "      <td>8402.0</td>\n",
              "      <td>7702.0</td>\n",
              "      <td>8602.0</td>\n",
              "      <td>8903.0</td>\n",
              "      <td>8903.0</td>\n",
              "      <td>0.0</td>\n",
              "      <td>0</td>\n",
              "      <td>0</td>\n",
              "      <td>2019</td>\n",
              "      <td>1</td>\n",
              "      <td>0</td>\n",
              "      <td>0</td>\n",
              "      <td>0</td>\n",
              "      <td>0</td>\n",
              "      <td>0</td>\n",
              "      <td>0</td>\n",
              "    </tr>\n",
              "    <tr>\n",
              "      <th>4</th>\n",
              "      <td>8201.0</td>\n",
              "      <td>8305.0</td>\n",
              "      <td>5911.0</td>\n",
              "      <td>5903.0</td>\n",
              "      <td>8402.0</td>\n",
              "      <td>0.0</td>\n",
              "      <td>0</td>\n",
              "      <td>0</td>\n",
              "      <td>2019</td>\n",
              "      <td>1</td>\n",
              "      <td>0</td>\n",
              "      <td>0</td>\n",
              "      <td>0</td>\n",
              "      <td>0</td>\n",
              "      <td>0</td>\n",
              "      <td>0</td>\n",
              "    </tr>\n",
              "    <tr>\n",
              "      <th>...</th>\n",
              "      <td>...</td>\n",
              "      <td>...</td>\n",
              "      <td>...</td>\n",
              "      <td>...</td>\n",
              "      <td>...</td>\n",
              "      <td>...</td>\n",
              "      <td>...</td>\n",
              "      <td>...</td>\n",
              "      <td>...</td>\n",
              "      <td>...</td>\n",
              "      <td>...</td>\n",
              "      <td>...</td>\n",
              "      <td>...</td>\n",
              "      <td>...</td>\n",
              "      <td>...</td>\n",
              "      <td>...</td>\n",
              "    </tr>\n",
              "    <tr>\n",
              "      <th>80</th>\n",
              "      <td>8803.0</td>\n",
              "      <td>8804.0</td>\n",
              "      <td>9102.0</td>\n",
              "      <td>8005.0</td>\n",
              "      <td>9303.0</td>\n",
              "      <td>0.0</td>\n",
              "      <td>1</td>\n",
              "      <td>3</td>\n",
              "      <td>2022</td>\n",
              "      <td>1</td>\n",
              "      <td>0</td>\n",
              "      <td>0</td>\n",
              "      <td>0</td>\n",
              "      <td>0</td>\n",
              "      <td>0</td>\n",
              "      <td>0</td>\n",
              "    </tr>\n",
              "    <tr>\n",
              "      <th>81</th>\n",
              "      <td>6211.0</td>\n",
              "      <td>8901.0</td>\n",
              "      <td>9003.0</td>\n",
              "      <td>9303.0</td>\n",
              "      <td>9007.0</td>\n",
              "      <td>0.0</td>\n",
              "      <td>1</td>\n",
              "      <td>3</td>\n",
              "      <td>2022</td>\n",
              "      <td>1</td>\n",
              "      <td>0</td>\n",
              "      <td>0</td>\n",
              "      <td>0</td>\n",
              "      <td>0</td>\n",
              "      <td>0</td>\n",
              "      <td>0</td>\n",
              "    </tr>\n",
              "    <tr>\n",
              "      <th>82</th>\n",
              "      <td>8601.0</td>\n",
              "      <td>8903.0</td>\n",
              "      <td>8703.0</td>\n",
              "      <td>0.0</td>\n",
              "      <td>0.0</td>\n",
              "      <td>0.0</td>\n",
              "      <td>1</td>\n",
              "      <td>3</td>\n",
              "      <td>2022</td>\n",
              "      <td>1</td>\n",
              "      <td>0</td>\n",
              "      <td>0</td>\n",
              "      <td>0</td>\n",
              "      <td>0</td>\n",
              "      <td>0</td>\n",
              "      <td>0</td>\n",
              "    </tr>\n",
              "    <tr>\n",
              "      <th>83</th>\n",
              "      <td>8703.0</td>\n",
              "      <td>8601.0</td>\n",
              "      <td>9202.0</td>\n",
              "      <td>9102.0</td>\n",
              "      <td>6204.0</td>\n",
              "      <td>0.0</td>\n",
              "      <td>1</td>\n",
              "      <td>3</td>\n",
              "      <td>2022</td>\n",
              "      <td>1</td>\n",
              "      <td>0</td>\n",
              "      <td>0</td>\n",
              "      <td>0</td>\n",
              "      <td>0</td>\n",
              "      <td>0</td>\n",
              "      <td>0</td>\n",
              "    </tr>\n",
              "    <tr>\n",
              "      <th>84</th>\n",
              "      <td>8102.0</td>\n",
              "      <td>7109.0</td>\n",
              "      <td>5903.0</td>\n",
              "      <td>7206.0</td>\n",
              "      <td>8903.0</td>\n",
              "      <td>0.0</td>\n",
              "      <td>0</td>\n",
              "      <td>0</td>\n",
              "      <td>2022</td>\n",
              "      <td>1</td>\n",
              "      <td>0</td>\n",
              "      <td>0</td>\n",
              "      <td>0</td>\n",
              "      <td>0</td>\n",
              "      <td>0</td>\n",
              "      <td>0</td>\n",
              "    </tr>\n",
              "  </tbody>\n",
              "</table>\n",
              "<p>85 rows × 16 columns</p>\n",
              "</div>\n",
              "      <button class=\"colab-df-convert\" onclick=\"convertToInteractive('df-4b357117-d406-4a10-b6f0-8562e8e96ad6')\"\n",
              "              title=\"Convert this dataframe to an interactive table.\"\n",
              "              style=\"display:none;\">\n",
              "        \n",
              "  <svg xmlns=\"http://www.w3.org/2000/svg\" height=\"24px\"viewBox=\"0 0 24 24\"\n",
              "       width=\"24px\">\n",
              "    <path d=\"M0 0h24v24H0V0z\" fill=\"none\"/>\n",
              "    <path d=\"M18.56 5.44l.94 2.06.94-2.06 2.06-.94-2.06-.94-.94-2.06-.94 2.06-2.06.94zm-11 1L8.5 8.5l.94-2.06 2.06-.94-2.06-.94L8.5 2.5l-.94 2.06-2.06.94zm10 10l.94 2.06.94-2.06 2.06-.94-2.06-.94-.94-2.06-.94 2.06-2.06.94z\"/><path d=\"M17.41 7.96l-1.37-1.37c-.4-.4-.92-.59-1.43-.59-.52 0-1.04.2-1.43.59L10.3 9.45l-7.72 7.72c-.78.78-.78 2.05 0 2.83L4 21.41c.39.39.9.59 1.41.59.51 0 1.02-.2 1.41-.59l7.78-7.78 2.81-2.81c.8-.78.8-2.07 0-2.86zM5.41 20L4 18.59l7.72-7.72 1.47 1.35L5.41 20z\"/>\n",
              "  </svg>\n",
              "      </button>\n",
              "      \n",
              "  <style>\n",
              "    .colab-df-container {\n",
              "      display:flex;\n",
              "      flex-wrap:wrap;\n",
              "      gap: 12px;\n",
              "    }\n",
              "\n",
              "    .colab-df-convert {\n",
              "      background-color: #E8F0FE;\n",
              "      border: none;\n",
              "      border-radius: 50%;\n",
              "      cursor: pointer;\n",
              "      display: none;\n",
              "      fill: #1967D2;\n",
              "      height: 32px;\n",
              "      padding: 0 0 0 0;\n",
              "      width: 32px;\n",
              "    }\n",
              "\n",
              "    .colab-df-convert:hover {\n",
              "      background-color: #E2EBFA;\n",
              "      box-shadow: 0px 1px 2px rgba(60, 64, 67, 0.3), 0px 1px 3px 1px rgba(60, 64, 67, 0.15);\n",
              "      fill: #174EA6;\n",
              "    }\n",
              "\n",
              "    [theme=dark] .colab-df-convert {\n",
              "      background-color: #3B4455;\n",
              "      fill: #D2E3FC;\n",
              "    }\n",
              "\n",
              "    [theme=dark] .colab-df-convert:hover {\n",
              "      background-color: #434B5C;\n",
              "      box-shadow: 0px 1px 3px 1px rgba(0, 0, 0, 0.15);\n",
              "      filter: drop-shadow(0px 1px 2px rgba(0, 0, 0, 0.3));\n",
              "      fill: #FFFFFF;\n",
              "    }\n",
              "  </style>\n",
              "\n",
              "      <script>\n",
              "        const buttonEl =\n",
              "          document.querySelector('#df-4b357117-d406-4a10-b6f0-8562e8e96ad6 button.colab-df-convert');\n",
              "        buttonEl.style.display =\n",
              "          google.colab.kernel.accessAllowed ? 'block' : 'none';\n",
              "\n",
              "        async function convertToInteractive(key) {\n",
              "          const element = document.querySelector('#df-4b357117-d406-4a10-b6f0-8562e8e96ad6');\n",
              "          const dataTable =\n",
              "            await google.colab.kernel.invokeFunction('convertToInteractive',\n",
              "                                                     [key], {});\n",
              "          if (!dataTable) return;\n",
              "\n",
              "          const docLinkHtml = 'Like what you see? Visit the ' +\n",
              "            '<a target=\"_blank\" href=https://colab.research.google.com/notebooks/data_table.ipynb>data table notebook</a>'\n",
              "            + ' to learn more about interactive tables.';\n",
              "          element.innerHTML = '';\n",
              "          dataTable['output_type'] = 'display_data';\n",
              "          await google.colab.output.renderOutput(dataTable, element);\n",
              "          const docLink = document.createElement('div');\n",
              "          docLink.innerHTML = docLinkHtml;\n",
              "          element.appendChild(docLink);\n",
              "        }\n",
              "      </script>\n",
              "    </div>\n",
              "  </div>\n",
              "  "
            ]
          },
          "metadata": {},
          "execution_count": 86
        }
      ]
    },
    {
      "cell_type": "code",
      "source": [
        "kolom_X = ['jml_vltr_terlibat','tahun','skema','luaran_hki','jenis_luaran_hki','potensi_hki','luaran_lain','jenis_luaran_lain','status_luaran_lain']\n",
        "X = df[kolom_X].values\n",
        "y = df['keterlibatan_vltr'].values\n",
        "\n",
        "from sklearn.model_selection import train_test_split\n",
        "\n",
        "X_train, X_test, y_train, y_test = train_test_split(X, y, test_size=0.2, random_state=5)\n",
        "X_train.shape, y_train.shape\n",
        "X_test.shape, y_test.shape\n"
      ],
      "metadata": {
        "colab": {
          "base_uri": "https://localhost:8080/"
        },
        "id": "M8AwdViJ5FKC",
        "outputId": "81719810-6ecb-4e83-f9f0-b677ea804d23"
      },
      "execution_count": 145,
      "outputs": [
        {
          "output_type": "execute_result",
          "data": {
            "text/plain": [
              "((17, 9), (17,))"
            ]
          },
          "metadata": {},
          "execution_count": 145
        }
      ]
    },
    {
      "cell_type": "code",
      "source": [
        "X_train\n",
        "y_train"
      ],
      "metadata": {
        "colab": {
          "base_uri": "https://localhost:8080/"
        },
        "id": "Vybtf6t5uoLd",
        "outputId": "053af5a1-6802-4154-b527-419cd8e54224"
      },
      "execution_count": 88,
      "outputs": [
        {
          "output_type": "execute_result",
          "data": {
            "text/plain": [
              "array(['0', '0', '1', '0', '1', '0', '0', '0', '1', '0', '1', '1', '1',\n",
              "       '1', '1', '1', '1', '0', '0', '1', '0', '0', '0', '1', '1', '1',\n",
              "       '1', '1', '0', '1', '0', '0', '0', '1', '0', '0', '1', '1', '0',\n",
              "       '1', '0', '0', '0', '0', '1', '0', '1', '0', '1', '1', '0', '0',\n",
              "       '1', '1', '0', '1', '0', '1', '0', '0', '1', '1', '1', '0', '0',\n",
              "       '0', '1', '1'], dtype=object)"
            ]
          },
          "metadata": {},
          "execution_count": 88
        }
      ]
    },
    {
      "cell_type": "markdown",
      "source": [
        "Klasifikasi"
      ],
      "metadata": {
        "id": "_HOFsEJ3MBWt"
      }
    },
    {
      "cell_type": "markdown",
      "source": [
        "Naive Bayes"
      ],
      "metadata": {
        "id": "uAGb4eWUf1TV"
      }
    },
    {
      "cell_type": "code",
      "source": [
        "from sklearn.naive_bayes import MultinomialNB\n",
        "from sklearn.metrics import accuracy_score\n",
        "\n",
        "# Inisiasi MultinomialNB\n",
        "mnb = MultinomialNB()\n",
        "\n",
        "# Fit model\n",
        "mnb.fit(X_train, y_train)\n",
        "\n",
        "# Prediksi dengan data training\n",
        "y_pred_train = mnb.predict(X_train)\n",
        "\n",
        "# Evaluasi akurasi data training\n",
        "acc_train = accuracy_score(y_train, y_pred_train)\n",
        "\n",
        "# Prediksi dengan data training\n",
        "y_pred_test = mnb.predict(X_test)\n",
        "\n",
        "# Evaluasi akurasi data training\n",
        "acc_test = accuracy_score(y_test, y_pred_test)\n",
        "\n",
        "# Print hasil evaluasi\n",
        "print(f'Hasil akurasi data train: {acc_train}')\n",
        "print(f'Hasil akurasi data test: {acc_test}')"
      ],
      "metadata": {
        "colab": {
          "base_uri": "https://localhost:8080/"
        },
        "id": "e1xCHk_y_bIG",
        "outputId": "71928793-a096-4542-fe58-dc2cd91902b3"
      },
      "execution_count": 89,
      "outputs": [
        {
          "output_type": "stream",
          "name": "stdout",
          "text": [
            "Hasil akurasi data train: 0.9705882352941176\n",
            "Hasil akurasi data test: 0.9411764705882353\n"
          ]
        }
      ]
    },
    {
      "cell_type": "markdown",
      "source": [
        "Decision Tree"
      ],
      "metadata": {
        "id": "LbRqzWfidkFn"
      }
    },
    {
      "cell_type": "code",
      "source": [
        "from sklearn.tree import DecisionTreeClassifier\n",
        "\n",
        "dt = DecisionTreeClassifier(max_depth=6, random_state=1)\n",
        "\n",
        "dt.fit(X_train, y_train)\n",
        "\n",
        "y_pred = dt.predict(X_test)\n",
        "print(y_pred[0:8])"
      ],
      "metadata": {
        "colab": {
          "base_uri": "https://localhost:8080/"
        },
        "id": "5N0_44fXdoxg",
        "outputId": "3f29802d-7856-4886-d41f-48889709a2d9"
      },
      "execution_count": 90,
      "outputs": [
        {
          "output_type": "stream",
          "name": "stdout",
          "text": [
            "['0' '0' '0' '0' '0' '0' '1' '1']\n"
          ]
        }
      ]
    },
    {
      "cell_type": "code",
      "source": [
        "from sklearn.metrics import accuracy_score\n",
        "\n",
        "# Memprediksi test set labels\n",
        "y_pred = dt.predict(X_test)\n",
        "\n",
        "#  menghitung set accuracy\n",
        "acc = accuracy_score(y_test, y_pred)\n",
        "print(\"Test set accuracy: {:.2f}\".format(acc))"
      ],
      "metadata": {
        "colab": {
          "base_uri": "https://localhost:8080/"
        },
        "id": "iEHTwJRSeAd6",
        "outputId": "9a65a2b3-c808-469d-ce0c-f47e8e14bed5"
      },
      "execution_count": 91,
      "outputs": [
        {
          "output_type": "stream",
          "name": "stdout",
          "text": [
            "Test set accuracy: 1.00\n"
          ]
        }
      ]
    },
    {
      "cell_type": "markdown",
      "source": [
        "Support Vector Machine "
      ],
      "metadata": {
        "id": "ACsrdB46sKyp"
      }
    },
    {
      "cell_type": "code",
      "source": [
        "from scipy import stats\n",
        "import seaborn as sns"
      ],
      "metadata": {
        "id": "hfea0f8rMDMY"
      },
      "execution_count": 25,
      "outputs": []
    },
    {
      "cell_type": "code",
      "source": [
        "from sklearn.datasets import make_blobs\n",
        "\n",
        "plt.scatter(X[:, 0], X[:, 1], c=y, s=50, cmap='autumn')"
      ],
      "metadata": {
        "colab": {
          "base_uri": "https://localhost:8080/",
          "height": 283
        },
        "id": "IhaptlIbsgwM",
        "outputId": "d7ac9cf5-3816-408e-c196-18a7350fdd28"
      },
      "execution_count": 35,
      "outputs": [
        {
          "output_type": "execute_result",
          "data": {
            "text/plain": [
              "<matplotlib.collections.PathCollection at 0x7f18c57bd5d0>"
            ]
          },
          "metadata": {},
          "execution_count": 35
        },
        {
          "output_type": "display_data",
          "data": {
            "text/plain": [
              "<Figure size 432x288 with 1 Axes>"
            ],
            "image/png": "[encoded data removed]"
          },
          "metadata": {
            "needs_background": "light"
          }
        }
      ]
    },
    {
      "cell_type": "markdown",
      "source": [
        "Prediksi"
      ],
      "metadata": {
        "id": "dyVzST8MrAn7"
      }
    },
    {
      "cell_type": "code",
      "source": [
        "# training model\n",
        "#dataFrame = df.sum(axis = 1)\n",
        "\n",
        "kolom_Xnew = ['jml_vltr_terlibat','skema','luaran_hki','jenis_luaran_hki','potensi_hki','luaran_lain','jenis_luaran_lain','status_luaran_lain']\n",
        "dataFrame = pd.get_dummies(df, kolom_Xnew, drop_first=True)\n",
        "\n",
        "import statsmodels.api as sm\n",
        "\n",
        "X_train_sm = sm.add_constant(dataFrame) \n",
        "\n",
        "# fitting garis regresi\n",
        "lr = sm.OLS(y_train, X_train_sm).fit()\n",
        "lr.params"
      ],
      "metadata": {
        "id": "k7Y1eO2g7GGB"
      },
      "execution_count": null,
      "outputs": []
    },
    {
      "cell_type": "markdown",
      "source": [
        "Confusion Matrix & ROC"
      ],
      "metadata": {
        "id": "Z6flOwlG7PSm"
      }
    },
    {
      "cell_type": "code",
      "source": [
        "from sklearn import svm\n",
        "classifier = svm.SVC(kernel='linear', probability=True, verbose=True)"
      ],
      "metadata": {
        "id": "-zzCakr57p91"
      },
      "execution_count": 104,
      "outputs": []
    },
    {
      "cell_type": "code",
      "source": [
        "classifier.fit(X_train, y_train)"
      ],
      "metadata": {
        "colab": {
          "base_uri": "https://localhost:8080/"
        },
        "id": "tiuWxi6V9FrG",
        "outputId": "38d1ea51-3ecf-4199-b320-f862ff855695"
      },
      "execution_count": 105,
      "outputs": [
        {
          "output_type": "stream",
          "name": "stdout",
          "text": [
            "[LibSVM]"
          ]
        },
        {
          "output_type": "execute_result",
          "data": {
            "text/plain": [
              "SVC(kernel='linear', probability=True, verbose=True)"
            ]
          },
          "metadata": {},
          "execution_count": 105
        }
      ]
    },
    {
      "cell_type": "code",
      "source": [
        "y_preds = classifier.predict(X_test)\n",
        "y_proba = classifier.predict_proba(X_test)"
      ],
      "metadata": {
        "id": "deKeY97C9M3W"
      },
      "execution_count": 106,
      "outputs": []
    },
    {
      "cell_type": "code",
      "source": [
        "y_proba = y_proba[:,1].reshape((y_proba.shape[0],))"
      ],
      "metadata": {
        "id": "X1rzaofg9QGX"
      },
      "execution_count": 107,
      "outputs": []
    },
    {
      "cell_type": "code",
      "source": [
        "y_proba[:8], y_preds[:8], y_test[:8]"
      ],
      "metadata": {
        "colab": {
          "base_uri": "https://localhost:8080/"
        },
        "id": "56Y7v7i89Ug0",
        "outputId": "c3634e85-9181-4235-db7d-ad584dcbe707"
      },
      "execution_count": 109,
      "outputs": [
        {
          "output_type": "execute_result",
          "data": {
            "text/plain": [
              "(array([5.42157226e-02, 7.93755153e-02, 3.73813365e-04, 7.33310386e-04,\n",
              "        6.07174890e-03, 1.20897578e-02, 4.71632984e-01, 6.80851854e-02]),\n",
              " array(['0', '0', '0', '0', '0', '0', '1', '0'], dtype=object),\n",
              " array(['0', '0', '0', '0', '0', '0', '1', '1'], dtype=object))"
            ]
          },
          "metadata": {},
          "execution_count": 109
        }
      ]
    },
    {
      "cell_type": "code",
      "source": [
        "from sklearn import metrics\n",
        "import itertools\n",
        "conf = metrics.confusion_matrix(y_test, y_preds)\n",
        "conf"
      ],
      "metadata": {
        "colab": {
          "base_uri": "https://localhost:8080/"
        },
        "id": "SMYL3miH9f1x",
        "outputId": "1fa57bdd-79f9-47e7-bc94-b163969ea169"
      },
      "execution_count": 111,
      "outputs": [
        {
          "output_type": "execute_result",
          "data": {
            "text/plain": [
              "array([[11,  0],\n",
              "       [ 2,  4]])"
            ]
          },
          "metadata": {},
          "execution_count": 111
        }
      ]
    },
    {
      "cell_type": "code",
      "source": [
        "def get_confusion_matrix(y_true, y_pred):\n",
        "    n_classes = len(np.unique(y_true))\n",
        "    conf = np.zeros((n_classes, n_classes))\n",
        "    for actual, pred in zip(y_true, y_pred):\n",
        "        conf[int(actual)][int(pred)] += 1\n",
        "    return conf.astype('int')"
      ],
      "metadata": {
        "id": "ujqppzld9t0v"
      },
      "execution_count": 112,
      "outputs": []
    },
    {
      "cell_type": "code",
      "source": [
        "conf = get_confusion_matrix(y_test, y_preds)\n",
        "conf"
      ],
      "metadata": {
        "colab": {
          "base_uri": "https://localhost:8080/"
        },
        "id": "_2dK_4qO9yHq",
        "outputId": "9f43a9b6-7e14-44b3-d1c3-5b0a73f1639d"
      },
      "execution_count": 113,
      "outputs": [
        {
          "output_type": "execute_result",
          "data": {
            "text/plain": [
              "array([[11,  0],\n",
              "       [ 2,  4]])"
            ]
          },
          "metadata": {},
          "execution_count": 113
        }
      ]
    },
    {
      "cell_type": "code",
      "source": [
        "classes = [0, 1]\n",
        "\n",
        "plt.imshow(conf, interpolation='nearest', cmap=plt.cm.Greens)\n",
        "plt.title(\"Confusion Matrix\")\n",
        "plt.colorbar()\n",
        "tick_marks = np.arange(len(classes))\n",
        "plt.xticks(tick_marks, classes)\n",
        "plt.yticks(tick_marks, classes)\n",
        "\n",
        "fmt = 'd'\n",
        "thresh = conf.max() / 2.\n",
        "for i, j in itertools.product(range(conf.shape[0]), range(conf.shape[1])):\n",
        "    plt.text(j, i, format(conf[i, j], fmt),\n",
        "             horizontalalignment=\"center\",\n",
        "             color=\"white\" if conf[i, j] > thresh else \"black\")\n",
        "\n",
        "plt.tight_layout()\n",
        "plt.ylabel('True label')\n",
        "plt.xlabel('Predicted label')"
      ],
      "metadata": {
        "colab": {
          "base_uri": "https://localhost:8080/",
          "height": 329
        },
        "id": "zsTGrPfk91JW",
        "outputId": "5b2686d0-48f7-465f-bf72-86cfe771e3e3"
      },
      "execution_count": 114,
      "outputs": [
        {
          "output_type": "execute_result",
          "data": {
            "text/plain": [
              "Text(0.5, 15.0, 'Predicted label')"
            ]
          },
          "metadata": {},
          "execution_count": 114
        },
        {
          "output_type": "display_data",
          "data": {
            "text/plain": [
              "<Figure size 432x288 with 2 Axes>"
            ],
            "image/png": "[encoded data removed]"
          },
          "metadata": {
            "needs_background": "light"
          }
        }
      ]
    },
    {
      "cell_type": "markdown",
      "source": [],
      "metadata": {
        "id": "6zvmvMny96DZ"
      }
    },
    {
      "cell_type": "code",
      "source": [
        "def get_roc_curve(y_test, y_proba, delta=0.1):\n",
        "\n",
        "    thresh = list(np.arange(0, 1, delta)) + [1]\n",
        "    TPRs = []\n",
        "    FPRs = []\n",
        "    y_pred = np.empty(y_proba.shape)\n",
        "    for th in thresh:\n",
        "        y_pred[y_proba < th] = 0\n",
        "        y_pred[y_proba >= th] = 1\n",
        "        \n",
        "        \n",
        "        (TN, FP), (FN, TP) = get_confusion_matrix(y_test, y_pred)\n",
        "        \n",
        "        TPR = TP / (TP + FN)  # sensitivity\n",
        "        FPR = FP / (FP + TN)  # 1 - specificity\n",
        "        TPRs.append(TPR)\n",
        "        FPRs.append(FPR)\n",
        "    return FPRs, TPRs, thresh"
      ],
      "metadata": {
        "id": "f-YJHjNm9-Xx"
      },
      "execution_count": 115,
      "outputs": []
    },
    {
      "cell_type": "code",
      "source": [
        "delta = 0.001\n",
        "FPRs, TPRs, _ = get_roc_curve(y_test, y_proba, delta)"
      ],
      "metadata": {
        "id": "qMpPLiFu9_w6"
      },
      "execution_count": 116,
      "outputs": []
    },
    {
      "cell_type": "code",
      "source": [
        "plt.plot(FPRs, TPRs, color='red',\n",
        "         lw=2, label='ROC curve')\n",
        "plt.plot([0, 1], [0, 1], color='navy', lw=2, linestyle='--', label=\"Mean\")\n",
        "plt.xlim([-0.05, 1.0])\n",
        "plt.ylim([0.0, 1.05])\n",
        "plt.xlabel('False Positive Rate')\n",
        "plt.ylabel('True Positive Rate')\n",
        "plt.title(f'ROC curve (threshold delta = {delta})')\n",
        "plt.legend(loc=\"lower right\")\n",
        "plt.show()"
      ],
      "metadata": {
        "colab": {
          "base_uri": "https://localhost:8080/",
          "height": 295
        },
        "id": "QgPSYVUb-Djl",
        "outputId": "aeae75b9-a6f0-4415-f6a0-e4b388330d9f"
      },
      "execution_count": 117,
      "outputs": [
        {
          "output_type": "display_data",
          "data": {
            "text/plain": [
              "<Figure size 432x288 with 1 Axes>"
            ],
            "image/png": "[encoded data removed]"
          },
          "metadata": {
            "needs_background": "light"
          }
        }
      ]
    },
    {
      "cell_type": "code",
      "source": [
        "rand_proba = np.random.random(size=(y_proba.shape))\n",
        "rand_proba[:5] "
      ],
      "metadata": {
        "colab": {
          "base_uri": "https://localhost:8080/"
        },
        "id": "nt2dRuGG-HFY",
        "outputId": "e9ee99fa-e023-473e-8f67-4bb01c8bc856"
      },
      "execution_count": 118,
      "outputs": [
        {
          "output_type": "execute_result",
          "data": {
            "text/plain": [
              "array([8.89986922e-01, 6.88789862e-01, 1.87152834e-01, 5.24844852e-01,\n",
              "       4.64341863e-05])"
            ]
          },
          "metadata": {},
          "execution_count": 118
        }
      ]
    },
    {
      "cell_type": "code",
      "source": [
        "FPRs, TPRs, _ = get_roc_curve(y_test, rand_proba, delta)  "
      ],
      "metadata": {
        "id": "HZfoVnMJ-JrR"
      },
      "execution_count": 119,
      "outputs": []
    },
    {
      "cell_type": "code",
      "source": [
        "plt.plot(FPRs, TPRs, color='red',\n",
        "         lw=2, label='ROC curve')\n",
        "plt.plot([0, 1], [0, 1], color='navy', lw=2, linestyle='--', label=\"Mean\")\n",
        "plt.xlim([-0.05, 1.0])\n",
        "plt.ylim([0.0, 1.05])\n",
        "plt.xlabel('False Positive Rate')\n",
        "plt.ylabel('True Positive Rate')\n",
        "plt.title(f'Random Predictions ROC curve (threshold delta = {delta})')\n",
        "plt.legend(loc=\"lower right\")\n",
        "plt.show()"
      ],
      "metadata": {
        "colab": {
          "base_uri": "https://localhost:8080/",
          "height": 295
        },
        "id": "bwAiXL56-MpR",
        "outputId": "5755ef9e-0b09-42d4-c711-fc72490a9eb8"
      },
      "execution_count": 120,
      "outputs": [
        {
          "output_type": "display_data",
          "data": {
            "text/plain": [
              "<Figure size 432x288 with 1 Axes>"
            ],
            "image/png": "[encoded data removed]"
          },
          "metadata": {
            "needs_background": "light"
          }
        }
      ]
    },
    {
      "cell_type": "code",
      "source": [
        "X =df.iloc[:, 2:]\n",
        "y =df['keterlibatan_vltr']\n",
        "\n",
        "X.head()"
      ],
      "metadata": {
        "colab": {
          "base_uri": "https://localhost:8080/",
          "height": 270
        },
        "id": "XEqwWgi0_13h",
        "outputId": "12f913e5-639f-463c-8276-c1f6b9b947cf"
      },
      "execution_count": 124,
      "outputs": [
        {
          "output_type": "execute_result",
          "data": {
            "text/plain": [
              "   id_anggota2  id_anggota3  id_anggota4  id_anggota5 keterlibatan_vltr  \\\n",
              "0       6211.0       8602.0       7801.0          NaN                 0   \n",
              "1       8402.0       7903.0       9202.0          NaN                 0   \n",
              "2       8701.0       9101.0       9003.0          NaN                 0   \n",
              "3       8602.0       8903.0       8903.0          NaN                 0   \n",
              "4       5911.0       5903.0       8402.0          NaN                 0   \n",
              "\n",
              "   jml_vltr_terlibat  tahun skema luaran_hki jenis_luaran_hki potensi_hki  \\\n",
              "0                  0   2019     1          0                0           0   \n",
              "1                  0   2019     1          0                0           0   \n",
              "2                  0   2019     1          0                0           0   \n",
              "3                  0   2019     1          0                0           0   \n",
              "4                  0   2019     1          0                0           0   \n",
              "\n",
              "  luaran_lain jenis_luaran_lain status_luaran_lain  \n",
              "0           0                 0                  0  \n",
              "1           0                 0                  0  \n",
              "2           0                 0                  0  \n",
              "3           0                 0                  0  \n",
              "4           0                 0                  0  "
            ],
            "text/html": [
              "\n",
              "  <div id=\"df-e861ee2c-6acc-4de7-9e54-297cdacb04d7\">\n",
              "    <div class=\"colab-df-container\">\n",
              "      <div>\n",
              "<style scoped>\n",
              "    .dataframe tbody tr th:only-of-type {\n",
              "        vertical-align: middle;\n",
              "    }\n",
              "\n",
              "    .dataframe tbody tr th {\n",
              "        vertical-align: top;\n",
              "    }\n",
              "\n",
              "    .dataframe thead th {\n",
              "        text-align: right;\n",
              "    }\n",
              "</style>\n",
              "<table border=\"1\" class=\"dataframe\">\n",
              "  <thead>\n",
              "    <tr style=\"text-align: right;\">\n",
              "      <th></th>\n",
              "      <th>id_anggota2</th>\n",
              "      <th>id_anggota3</th>\n",
              "      <th>id_anggota4</th>\n",
              "      <th>id_anggota5</th>\n",
              "      <th>keterlibatan_vltr</th>\n",
              "      <th>jml_vltr_terlibat</th>\n",
              "      <th>tahun</th>\n",
              "      <th>skema</th>\n",
              "      <th>luaran_hki</th>\n",
              "      <th>jenis_luaran_hki</th>\n",
              "      <th>potensi_hki</th>\n",
              "      <th>luaran_lain</th>\n",
              "      <th>jenis_luaran_lain</th>\n",
              "      <th>status_luaran_lain</th>\n",
              "    </tr>\n",
              "  </thead>\n",
              "  <tbody>\n",
              "    <tr>\n",
              "      <th>0</th>\n",
              "      <td>6211.0</td>\n",
              "      <td>8602.0</td>\n",
              "      <td>7801.0</td>\n",
              "      <td>NaN</td>\n",
              "      <td>0</td>\n",
              "      <td>0</td>\n",
              "      <td>2019</td>\n",
              "      <td>1</td>\n",
              "      <td>0</td>\n",
              "      <td>0</td>\n",
              "      <td>0</td>\n",
              "      <td>0</td>\n",
              "      <td>0</td>\n",
              "      <td>0</td>\n",
              "    </tr>\n",
              "    <tr>\n",
              "      <th>1</th>\n",
              "      <td>8402.0</td>\n",
              "      <td>7903.0</td>\n",
              "      <td>9202.0</td>\n",
              "      <td>NaN</td>\n",
              "      <td>0</td>\n",
              "      <td>0</td>\n",
              "      <td>2019</td>\n",
              "      <td>1</td>\n",
              "      <td>0</td>\n",
              "      <td>0</td>\n",
              "      <td>0</td>\n",
              "      <td>0</td>\n",
              "      <td>0</td>\n",
              "      <td>0</td>\n",
              "    </tr>\n",
              "    <tr>\n",
              "      <th>2</th>\n",
              "      <td>8701.0</td>\n",
              "      <td>9101.0</td>\n",
              "      <td>9003.0</td>\n",
              "      <td>NaN</td>\n",
              "      <td>0</td>\n",
              "      <td>0</td>\n",
              "      <td>2019</td>\n",
              "      <td>1</td>\n",
              "      <td>0</td>\n",
              "      <td>0</td>\n",
              "      <td>0</td>\n",
              "      <td>0</td>\n",
              "      <td>0</td>\n",
              "      <td>0</td>\n",
              "    </tr>\n",
              "    <tr>\n",
              "      <th>3</th>\n",
              "      <td>8602.0</td>\n",
              "      <td>8903.0</td>\n",
              "      <td>8903.0</td>\n",
              "      <td>NaN</td>\n",
              "      <td>0</td>\n",
              "      <td>0</td>\n",
              "      <td>2019</td>\n",
              "      <td>1</td>\n",
              "      <td>0</td>\n",
              "      <td>0</td>\n",
              "      <td>0</td>\n",
              "      <td>0</td>\n",
              "      <td>0</td>\n",
              "      <td>0</td>\n",
              "    </tr>\n",
              "    <tr>\n",
              "      <th>4</th>\n",
              "      <td>5911.0</td>\n",
              "      <td>5903.0</td>\n",
              "      <td>8402.0</td>\n",
              "      <td>NaN</td>\n",
              "      <td>0</td>\n",
              "      <td>0</td>\n",
              "      <td>2019</td>\n",
              "      <td>1</td>\n",
              "      <td>0</td>\n",
              "      <td>0</td>\n",
              "      <td>0</td>\n",
              "      <td>0</td>\n",
              "      <td>0</td>\n",
              "      <td>0</td>\n",
              "    </tr>\n",
              "  </tbody>\n",
              "</table>\n",
              "</div>\n",
              "      <button class=\"colab-df-convert\" onclick=\"convertToInteractive('df-e861ee2c-6acc-4de7-9e54-297cdacb04d7')\"\n",
              "              title=\"Convert this dataframe to an interactive table.\"\n",
              "              style=\"display:none;\">\n",
              "        \n",
              "  <svg xmlns=\"http://www.w3.org/2000/svg\" height=\"24px\"viewBox=\"0 0 24 24\"\n",
              "       width=\"24px\">\n",
              "    <path d=\"M0 0h24v24H0V0z\" fill=\"none\"/>\n",
              "    <path d=\"M18.56 5.44l.94 2.06.94-2.06 2.06-.94-2.06-.94-.94-2.06-.94 2.06-2.06.94zm-11 1L8.5 8.5l.94-2.06 2.06-.94-2.06-.94L8.5 2.5l-.94 2.06-2.06.94zm10 10l.94 2.06.94-2.06 2.06-.94-2.06-.94-.94-2.06-.94 2.06-2.06.94z\"/><path d=\"M17.41 7.96l-1.37-1.37c-.4-.4-.92-.59-1.43-.59-.52 0-1.04.2-1.43.59L10.3 9.45l-7.72 7.72c-.78.78-.78 2.05 0 2.83L4 21.41c.39.39.9.59 1.41.59.51 0 1.02-.2 1.41-.59l7.78-7.78 2.81-2.81c.8-.78.8-2.07 0-2.86zM5.41 20L4 18.59l7.72-7.72 1.47 1.35L5.41 20z\"/>\n",
              "  </svg>\n",
              "      </button>\n",
              "      \n",
              "  <style>\n",
              "    .colab-df-container {\n",
              "      display:flex;\n",
              "      flex-wrap:wrap;\n",
              "      gap: 12px;\n",
              "    }\n",
              "\n",
              "    .colab-df-convert {\n",
              "      background-color: #E8F0FE;\n",
              "      border: none;\n",
              "      border-radius: 50%;\n",
              "      cursor: pointer;\n",
              "      display: none;\n",
              "      fill: #1967D2;\n",
              "      height: 32px;\n",
              "      padding: 0 0 0 0;\n",
              "      width: 32px;\n",
              "    }\n",
              "\n",
              "    .colab-df-convert:hover {\n",
              "      background-color: #E2EBFA;\n",
              "      box-shadow: 0px 1px 2px rgba(60, 64, 67, 0.3), 0px 1px 3px 1px rgba(60, 64, 67, 0.15);\n",
              "      fill: #174EA6;\n",
              "    }\n",
              "\n",
              "    [theme=dark] .colab-df-convert {\n",
              "      background-color: #3B4455;\n",
              "      fill: #D2E3FC;\n",
              "    }\n",
              "\n",
              "    [theme=dark] .colab-df-convert:hover {\n",
              "      background-color: #434B5C;\n",
              "      box-shadow: 0px 1px 3px 1px rgba(0, 0, 0, 0.15);\n",
              "      filter: drop-shadow(0px 1px 2px rgba(0, 0, 0, 0.3));\n",
              "      fill: #FFFFFF;\n",
              "    }\n",
              "  </style>\n",
              "\n",
              "      <script>\n",
              "        const buttonEl =\n",
              "          document.querySelector('#df-e861ee2c-6acc-4de7-9e54-297cdacb04d7 button.colab-df-convert');\n",
              "        buttonEl.style.display =\n",
              "          google.colab.kernel.accessAllowed ? 'block' : 'none';\n",
              "\n",
              "        async function convertToInteractive(key) {\n",
              "          const element = document.querySelector('#df-e861ee2c-6acc-4de7-9e54-297cdacb04d7');\n",
              "          const dataTable =\n",
              "            await google.colab.kernel.invokeFunction('convertToInteractive',\n",
              "                                                     [key], {});\n",
              "          if (!dataTable) return;\n",
              "\n",
              "          const docLinkHtml = 'Like what you see? Visit the ' +\n",
              "            '<a target=\"_blank\" href=https://colab.research.google.com/notebooks/data_table.ipynb>data table notebook</a>'\n",
              "            + ' to learn more about interactive tables.';\n",
              "          element.innerHTML = '';\n",
              "          dataTable['output_type'] = 'display_data';\n",
              "          await google.colab.output.renderOutput(dataTable, element);\n",
              "          const docLink = document.createElement('div');\n",
              "          docLink.innerHTML = docLinkHtml;\n",
              "          element.appendChild(docLink);\n",
              "        }\n",
              "      </script>\n",
              "    </div>\n",
              "  </div>\n",
              "  "
            ]
          },
          "metadata": {},
          "execution_count": 124
        }
      ]
    },
    {
      "cell_type": "code",
      "source": [
        "from sklearn.model_selection import RepeatedKFold\n",
        "\n",
        "# inisiasi repated k-fold\n",
        "cv =RepeatedKFold(n_splits=4, n_repeats=3, random_state=42)"
      ],
      "metadata": {
        "id": "v8TCJ9bbAHQx"
      },
      "execution_count": 127,
      "outputs": []
    },
    {
      "cell_type": "code",
      "source": [
        "from sklearn.tree import DecisionTreeClassifier\n",
        "from sklearn.model_selection import GridSearchCV\n",
        "\n",
        "# inisiasi model\n",
        "dt = DecisionTreeClassifier()\n",
        "\n",
        "# Definisikan hyperparameter yang akan digunakan\n",
        "# sklearn menerima dalam bentuk dictionary\n",
        "# nama hyperparamater HARUS SESUAI dengan dokumentasi sklearn\n",
        "params = {\n",
        "    'criterion': ['gini', 'entropy', 'log_loss'],\n",
        "    'max_depth': list(range(5,11))\n",
        "}\n",
        "\n",
        "# inisiasi grid berdasarkan nilai repeated k-fold dan hyperparameter\n",
        "grid = GridSearchCV(dt, param_grid=params, cv=cv)\n",
        "\n",
        "# Fit / latih berdasarkan grid\n",
        "# %timeit merupakan magic command didalam ipython notebook\n",
        "# yang dapat kita gunakan untuk menghitung waktu komputasi\n",
        "# cara ini cukup efektif untuk melakukan evaluasi suatu algoritma atau prosedur\n",
        "%timeit grid.fit(X, y)\n",
        "\n",
        "# Evaluasi dengan score\n",
        "score =grid.score(X,y)\n",
        "\n",
        "print(f'Hasil evaluasi: {score}')\n",
        "print(f'Konfigurasi hyperparameter: {grid.best_params_}')"
      ],
      "metadata": {
        "colab": {
          "base_uri": "https://localhost:8080/"
        },
        "id": "qdoa3-IsAT_v",
        "outputId": "ea9848b8-1d5e-4eec-c4a2-f8da79c33306"
      },
      "execution_count": 146,
      "outputs": [
        {
          "output_type": "stream",
          "name": "stderr",
          "text": [
            "/usr/local/lib/python3.7/dist-packages/sklearn/model_selection/_validation.py:372: FitFailedWarning: \n",
            "72 fits failed out of a total of 216.\n",
            "The score on these train-test partitions for these parameters will be set to nan.\n",
            "If these failures are not expected, you can try to debug them by setting error_score='raise'.\n",
            "\n",
            "Below are more details about the failures:\n",
            "--------------------------------------------------------------------------------\n",
            "72 fits failed with the following error:\n",
            "Traceback (most recent call last):\n",
            "  File \"/usr/local/lib/python3.7/dist-packages/sklearn/model_selection/_validation.py\", line 680, in _fit_and_score\n",
            "    estimator.fit(X_train, y_train, **fit_params)\n",
            "  File \"/usr/local/lib/python3.7/dist-packages/sklearn/tree/_classes.py\", line 942, in fit\n",
            "    X_idx_sorted=X_idx_sorted,\n",
            "  File \"/usr/local/lib/python3.7/dist-packages/sklearn/tree/_classes.py\", line 352, in fit\n",
            "    criterion = CRITERIA_CLF[self.criterion](\n",
            "KeyError: 'log_loss'\n",
            "\n",
            "  warnings.warn(some_fits_failed_message, FitFailedWarning)\n",
            "/usr/local/lib/python3.7/dist-packages/sklearn/model_selection/_search.py:972: UserWarning: One or more of the test scores are non-finite: [0.98809524 0.98809524 0.98809524 0.98809524 0.98809524 0.98809524\n",
            " 0.98809524 0.98809524 0.98809524 0.98809524 0.98809524 0.98809524\n",
            "        nan        nan        nan        nan        nan        nan]\n",
            "  category=UserWarning,\n",
            "/usr/local/lib/python3.7/dist-packages/sklearn/model_selection/_validation.py:372: FitFailedWarning: \n",
            "72 fits failed out of a total of 216.\n",
            "The score on these train-test partitions for these parameters will be set to nan.\n",
            "If these failures are not expected, you can try to debug them by setting error_score='raise'.\n",
            "\n",
            "Below are more details about the failures:\n",
            "--------------------------------------------------------------------------------\n",
            "72 fits failed with the following error:\n",
            "Traceback (most recent call last):\n",
            "  File \"/usr/local/lib/python3.7/dist-packages/sklearn/model_selection/_validation.py\", line 680, in _fit_and_score\n",
            "    estimator.fit(X_train, y_train, **fit_params)\n",
            "  File \"/usr/local/lib/python3.7/dist-packages/sklearn/tree/_classes.py\", line 942, in fit\n",
            "    X_idx_sorted=X_idx_sorted,\n",
            "  File \"/usr/local/lib/python3.7/dist-packages/sklearn/tree/_classes.py\", line 352, in fit\n",
            "    criterion = CRITERIA_CLF[self.criterion](\n",
            "KeyError: 'log_loss'\n",
            "\n",
            "  warnings.warn(some_fits_failed_message, FitFailedWarning)\n",
            "/usr/local/lib/python3.7/dist-packages/sklearn/model_selection/_search.py:972: UserWarning: One or more of the test scores are non-finite: [0.98809524 0.98809524 0.98809524 0.98809524 0.98809524 0.98809524\n",
            " 0.98809524 0.98809524 0.98809524 0.98809524 0.98809524 0.98809524\n",
            "        nan        nan        nan        nan        nan        nan]\n",
            "  category=UserWarning,\n",
            "/usr/local/lib/python3.7/dist-packages/sklearn/model_selection/_validation.py:372: FitFailedWarning: \n",
            "72 fits failed out of a total of 216.\n",
            "The score on these train-test partitions for these parameters will be set to nan.\n",
            "If these failures are not expected, you can try to debug them by setting error_score='raise'.\n",
            "\n",
            "Below are more details about the failures:\n",
            "--------------------------------------------------------------------------------\n",
            "72 fits failed with the following error:\n",
            "Traceback (most recent call last):\n",
            "  File \"/usr/local/lib/python3.7/dist-packages/sklearn/model_selection/_validation.py\", line 680, in _fit_and_score\n",
            "    estimator.fit(X_train, y_train, **fit_params)\n",
            "  File \"/usr/local/lib/python3.7/dist-packages/sklearn/tree/_classes.py\", line 942, in fit\n",
            "    X_idx_sorted=X_idx_sorted,\n",
            "  File \"/usr/local/lib/python3.7/dist-packages/sklearn/tree/_classes.py\", line 352, in fit\n",
            "    criterion = CRITERIA_CLF[self.criterion](\n",
            "KeyError: 'log_loss'\n",
            "\n",
            "  warnings.warn(some_fits_failed_message, FitFailedWarning)\n",
            "/usr/local/lib/python3.7/dist-packages/sklearn/model_selection/_search.py:972: UserWarning: One or more of the test scores are non-finite: [0.98809524 0.98809524 0.98809524 0.98809524 0.98809524 0.98809524\n",
            " 0.98809524 0.98809524 0.98809524 0.98809524 0.98809524 0.98809524\n",
            "        nan        nan        nan        nan        nan        nan]\n",
            "  category=UserWarning,\n",
            "/usr/local/lib/python3.7/dist-packages/sklearn/model_selection/_validation.py:372: FitFailedWarning: \n",
            "72 fits failed out of a total of 216.\n",
            "The score on these train-test partitions for these parameters will be set to nan.\n",
            "If these failures are not expected, you can try to debug them by setting error_score='raise'.\n",
            "\n",
            "Below are more details about the failures:\n",
            "--------------------------------------------------------------------------------\n",
            "72 fits failed with the following error:\n",
            "Traceback (most recent call last):\n",
            "  File \"/usr/local/lib/python3.7/dist-packages/sklearn/model_selection/_validation.py\", line 680, in _fit_and_score\n",
            "    estimator.fit(X_train, y_train, **fit_params)\n",
            "  File \"/usr/local/lib/python3.7/dist-packages/sklearn/tree/_classes.py\", line 942, in fit\n",
            "    X_idx_sorted=X_idx_sorted,\n",
            "  File \"/usr/local/lib/python3.7/dist-packages/sklearn/tree/_classes.py\", line 352, in fit\n",
            "    criterion = CRITERIA_CLF[self.criterion](\n",
            "KeyError: 'log_loss'\n",
            "\n",
            "  warnings.warn(some_fits_failed_message, FitFailedWarning)\n",
            "/usr/local/lib/python3.7/dist-packages/sklearn/model_selection/_search.py:972: UserWarning: One or more of the test scores are non-finite: [0.98809524 0.98809524 0.98809524 0.98809524 0.98809524 0.98809524\n",
            " 0.98809524 0.98809524 0.98809524 0.98809524 0.98809524 0.98809524\n",
            "        nan        nan        nan        nan        nan        nan]\n",
            "  category=UserWarning,\n",
            "/usr/local/lib/python3.7/dist-packages/sklearn/model_selection/_validation.py:372: FitFailedWarning: \n",
            "72 fits failed out of a total of 216.\n",
            "The score on these train-test partitions for these parameters will be set to nan.\n",
            "If these failures are not expected, you can try to debug them by setting error_score='raise'.\n",
            "\n",
            "Below are more details about the failures:\n",
            "--------------------------------------------------------------------------------\n",
            "72 fits failed with the following error:\n",
            "Traceback (most recent call last):\n",
            "  File \"/usr/local/lib/python3.7/dist-packages/sklearn/model_selection/_validation.py\", line 680, in _fit_and_score\n",
            "    estimator.fit(X_train, y_train, **fit_params)\n",
            "  File \"/usr/local/lib/python3.7/dist-packages/sklearn/tree/_classes.py\", line 942, in fit\n",
            "    X_idx_sorted=X_idx_sorted,\n",
            "  File \"/usr/local/lib/python3.7/dist-packages/sklearn/tree/_classes.py\", line 352, in fit\n",
            "    criterion = CRITERIA_CLF[self.criterion](\n",
            "KeyError: 'log_loss'\n",
            "\n",
            "  warnings.warn(some_fits_failed_message, FitFailedWarning)\n",
            "/usr/local/lib/python3.7/dist-packages/sklearn/model_selection/_search.py:972: UserWarning: One or more of the test scores are non-finite: [0.98809524 0.98809524 0.98809524 0.98809524 0.98809524 0.98809524\n",
            " 0.98809524 0.98809524 0.98809524 0.98809524 0.98809524 0.98809524\n",
            "        nan        nan        nan        nan        nan        nan]\n",
            "  category=UserWarning,\n",
            "/usr/local/lib/python3.7/dist-packages/sklearn/model_selection/_validation.py:372: FitFailedWarning: \n",
            "72 fits failed out of a total of 216.\n",
            "The score on these train-test partitions for these parameters will be set to nan.\n",
            "If these failures are not expected, you can try to debug them by setting error_score='raise'.\n",
            "\n",
            "Below are more details about the failures:\n",
            "--------------------------------------------------------------------------------\n",
            "72 fits failed with the following error:\n",
            "Traceback (most recent call last):\n",
            "  File \"/usr/local/lib/python3.7/dist-packages/sklearn/model_selection/_validation.py\", line 680, in _fit_and_score\n",
            "    estimator.fit(X_train, y_train, **fit_params)\n",
            "  File \"/usr/local/lib/python3.7/dist-packages/sklearn/tree/_classes.py\", line 942, in fit\n",
            "    X_idx_sorted=X_idx_sorted,\n",
            "  File \"/usr/local/lib/python3.7/dist-packages/sklearn/tree/_classes.py\", line 352, in fit\n",
            "    criterion = CRITERIA_CLF[self.criterion](\n",
            "KeyError: 'log_loss'\n",
            "\n",
            "  warnings.warn(some_fits_failed_message, FitFailedWarning)\n",
            "/usr/local/lib/python3.7/dist-packages/sklearn/model_selection/_search.py:972: UserWarning: One or more of the test scores are non-finite: [0.98809524 0.98809524 0.98809524 0.98809524 0.98809524 0.98809524\n",
            " 0.98809524 0.98809524 0.98809524 0.98809524 0.98809524 0.98809524\n",
            "        nan        nan        nan        nan        nan        nan]\n",
            "  category=UserWarning,\n",
            "/usr/local/lib/python3.7/dist-packages/sklearn/model_selection/_validation.py:372: FitFailedWarning: \n",
            "72 fits failed out of a total of 216.\n",
            "The score on these train-test partitions for these parameters will be set to nan.\n",
            "If these failures are not expected, you can try to debug them by setting error_score='raise'.\n",
            "\n",
            "Below are more details about the failures:\n",
            "--------------------------------------------------------------------------------\n",
            "72 fits failed with the following error:\n",
            "Traceback (most recent call last):\n",
            "  File \"/usr/local/lib/python3.7/dist-packages/sklearn/model_selection/_validation.py\", line 680, in _fit_and_score\n",
            "    estimator.fit(X_train, y_train, **fit_params)\n",
            "  File \"/usr/local/lib/python3.7/dist-packages/sklearn/tree/_classes.py\", line 942, in fit\n",
            "    X_idx_sorted=X_idx_sorted,\n",
            "  File \"/usr/local/lib/python3.7/dist-packages/sklearn/tree/_classes.py\", line 352, in fit\n",
            "    criterion = CRITERIA_CLF[self.criterion](\n",
            "KeyError: 'log_loss'\n",
            "\n",
            "  warnings.warn(some_fits_failed_message, FitFailedWarning)\n",
            "/usr/local/lib/python3.7/dist-packages/sklearn/model_selection/_search.py:972: UserWarning: One or more of the test scores are non-finite: [0.98809524 0.98809524 0.98809524 0.98809524 0.98809524 0.98809524\n",
            " 0.98809524 0.98809524 0.98809524 0.98809524 0.98809524 0.98809524\n",
            "        nan        nan        nan        nan        nan        nan]\n",
            "  category=UserWarning,\n"
          ]
        },
        {
          "output_type": "stream",
          "name": "stdout",
          "text": [
            "282 ms ± 10.7 ms per loop (mean ± std. dev. of 7 runs, 1 loop each)\n",
            "Hasil evaluasi: 1.0\n",
            "Konfigurasi hyperparameter: {'criterion': 'gini', 'max_depth': 5}\n"
          ]
        },
        {
          "output_type": "stream",
          "name": "stderr",
          "text": [
            "/usr/local/lib/python3.7/dist-packages/sklearn/model_selection/_validation.py:372: FitFailedWarning: \n",
            "72 fits failed out of a total of 216.\n",
            "The score on these train-test partitions for these parameters will be set to nan.\n",
            "If these failures are not expected, you can try to debug them by setting error_score='raise'.\n",
            "\n",
            "Below are more details about the failures:\n",
            "--------------------------------------------------------------------------------\n",
            "72 fits failed with the following error:\n",
            "Traceback (most recent call last):\n",
            "  File \"/usr/local/lib/python3.7/dist-packages/sklearn/model_selection/_validation.py\", line 680, in _fit_and_score\n",
            "    estimator.fit(X_train, y_train, **fit_params)\n",
            "  File \"/usr/local/lib/python3.7/dist-packages/sklearn/tree/_classes.py\", line 942, in fit\n",
            "    X_idx_sorted=X_idx_sorted,\n",
            "  File \"/usr/local/lib/python3.7/dist-packages/sklearn/tree/_classes.py\", line 352, in fit\n",
            "    criterion = CRITERIA_CLF[self.criterion](\n",
            "KeyError: 'log_loss'\n",
            "\n",
            "  warnings.warn(some_fits_failed_message, FitFailedWarning)\n",
            "/usr/local/lib/python3.7/dist-packages/sklearn/model_selection/_search.py:972: UserWarning: One or more of the test scores are non-finite: [0.98809524 0.98809524 0.98809524 0.98809524 0.98809524 0.98809524\n",
            " 0.98809524 0.98809524 0.98809524 0.98809524 0.98809524 0.98809524\n",
            "        nan        nan        nan        nan        nan        nan]\n",
            "  category=UserWarning,\n"
          ]
        }
      ]
    }
  ]
}